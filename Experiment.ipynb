{
 "cells": [
  {
   "cell_type": "code",
   "execution_count": 16,
   "metadata": {},
   "outputs": [],
   "source": [
    "from sklearn.metrics import confusion_matrix\n",
    "from sklearn.metrics import accuracy_score\n",
    "from sklearn.metrics import precision_score\n",
    "from sklearn.metrics import recall_score\n",
    "from sklearn.metrics import f1_score\n",
    "import matplotlib.pyplot as plt\n",
    "import seaborn as sns\n",
    "#Ubah jadi target 0,1,2\n",
    "def convertEncoding(array_input):\n",
    "    array_output = []\n",
    "    for input in array_input:\n",
    "        array_output.append(input.index(max(input)))\n",
    "    return array_output\n",
    "#Confusion matrix\n",
    "#Confusion matrix\n",
    "#True positive, false positive, true negative, false negative\n",
    "#Catatan: baris true, column pred (ngikutin sklearn)\n",
    "def getConfusionMatrix(target,prediction):\n",
    "    n = len(set(target))\n",
    "    confusion_matrix = [[0 for i in range(n)] for j in range(n)]\n",
    "    for i in range(len(target)):\n",
    "        true = int(target[i])\n",
    "        pred = int(prediction[i])\n",
    "        confusion_matrix[true][pred] += 1\n",
    "    return np.array(confusion_matrix) \n",
    "#Accuracy,precision,recall,F1\n",
    "def getAccuracy(confusion_matrix):\n",
    "    total = 0\n",
    "    true = 0\n",
    "    for i in range(len(confusion_matrix)):\n",
    "        for j in range(len(confusion_matrix[i])):\n",
    "            if(i==j):\n",
    "                true += confusion_matrix[i][j]\n",
    "            total += confusion_matrix[i][j]\n",
    "    return true/total\n",
    "\n",
    "def getRecall(label,confusion_matrix):\n",
    "    row = confusion_matrix[label,:]\n",
    "    return confusion_matrix[label, label] / sum(row)\n",
    "\n",
    "def getPrecision(label,confusion_matrix):\n",
    "    column = confusion_matrix[:, label]\n",
    "    return confusion_matrix[label, label] / sum(column)\n",
    "\n",
    "def getF1(precision,recall):\n",
    "    return 2*precision*recall/(precision+recall)\n",
    "\n",
    "def getMetrics(target,prediction):\n",
    "    confusion_matrix = getConfusionMatrix(target,prediction)\n",
    "    n = len(set(target))\n",
    "    print(\"Accuracy: \",getAccuracy(confusion_matrix))\n",
    "    print(\"label precision recall f1\")\n",
    "    for i in range(n):\n",
    "        precision = getPrecision(i, confusion_matrix)\n",
    "        recall = getRecall(i, confusion_matrix)\n",
    "        f1 = getF1(precision,recall)\n",
    "        print(f\"{i:5d} {precision:9.3f} {recall:6.3f} {f1:2.3f}\")"
   ]
  },
  {
   "cell_type": "markdown",
   "metadata": {},
   "source": [
    "# Nomor 2 no shuffle"
   ]
  },
  {
   "cell_type": "code",
   "execution_count": 17,
   "metadata": {},
   "outputs": [
    {
     "name": "stdout",
     "output_type": "stream",
     "text": [
      "Layer 1:\n",
      "Fungsi Aktivasi:  linear\n",
      "Neuron 1: [0.1, 0.1, 0.1, 0.1, 0.1]\n",
      "Neuron 2: [0.1, 0.1, 0.1, 0.1, 0.1]\n",
      "Layer 2:\n",
      "Fungsi Aktivasi:  linear\n",
      "Neuron 1: [1.0, 1.0, 1.0]\n",
      "Neuron 2: [1.0, 1.0, 1.0]\n",
      "Neuron 3: [1.0, 1.0, 1.0]\n",
      "Layer 3:\n",
      "Fungsi Aktivasi:  softmax\n",
      "Neuron 1: [1.0, 1.0, 1.0, 0.5]\n",
      "Neuron 2: [1.0, 0.5, 0.5, 0.5]\n",
      "Neuron 3: [1.0, 0.5, 0.5, 1.0]\n",
      "Layer 1:\n",
      "Fungsi Aktivasi:  linear\n",
      "Neuron 1: [0.02286998804827396, -0.21073758365443765, -0.01462371097485473, -1.1986688520280382, -0.6007971767590292]\n",
      "Neuron 2: [0.20580870268621562, 0.9966961622915502, 0.5768351874302214, -0.30990620905985766, -0.34795633920263863]\n",
      "Layer 2:\n",
      "Fungsi Aktivasi:  linear\n",
      "Neuron 1: [1.5893870929800378, 2.7080349248252755, 2.606901446097535]\n",
      "Neuron 2: [-1.3366036960903271, -2.418283870044538, 0.3762439128185482]\n",
      "Neuron 3: [-0.08960274400814736, 0.7770331242184626, -3.452091833742927]\n",
      "Layer 3:\n",
      "Fungsi Aktivasi:  softmax\n",
      "Neuron 1: [2.2397254716180823, 57.70407526217318, -21.192466973488717, -19.461895226337568]\n",
      "Neuron 2: [4.704182969160311, 25.47726696696934, -32.330697274536526, -30.62360343881536]\n",
      "Neuron 3: [-3.9439084407783276, -81.1813422291427, 55.52316424802533, 52.085498665152805]\n",
      "iter:  1000\n",
      "error:  404.3623646617326\n"
     ]
    }
   ],
   "source": [
    "from FFNN import FFNN\n",
    "from sklearn import datasets\n",
    "from sklearn.neural_network import MLPClassifier\n",
    "import random\n",
    "import numpy as np\n",
    "iris = datasets.load_iris()\n",
    "x = iris.data.tolist()  # we only take the first two features.\n",
    "\n",
    "y = iris.target\n",
    "\n",
    "target2 = []\n",
    "for i in range(len(y)):\n",
    "    if (y[i] == 0):\n",
    "        target2.append([1,0,0])\n",
    "    elif(y[i] == 1):\n",
    "        target2.append([0,1,0])\n",
    "    else:\n",
    "        target2.append([0,0,1])\n",
    "\n",
    "ffnn2 = FFNN(\"IrisModel4.txt\")\n",
    "ffnn2.printModel()\n",
    "ffnn2.setBackwardParameter(target2, 0.1)\n",
    "ffnn2.backward(1, 0.1, 1000, x)"
   ]
  },
  {
   "cell_type": "code",
   "execution_count": 18,
   "metadata": {},
   "outputs": [
    {
     "name": "stdout",
     "output_type": "stream",
     "text": [
      "[[1 0 0]\n",
      " [1 0 0]\n",
      " [1 0 0]\n",
      " [1 0 0]\n",
      " [1 0 0]\n",
      " [1 0 0]\n",
      " [1 0 0]\n",
      " [1 0 0]\n",
      " [1 0 0]\n",
      " [1 0 0]\n",
      " [1 0 0]\n",
      " [1 0 0]\n",
      " [1 0 0]\n",
      " [1 0 0]\n",
      " [1 0 0]\n",
      " [1 0 0]\n",
      " [1 0 0]\n",
      " [1 0 0]\n",
      " [1 0 0]\n",
      " [1 0 0]\n",
      " [1 0 0]\n",
      " [1 0 0]\n",
      " [1 0 0]\n",
      " [1 0 0]\n",
      " [1 0 0]\n",
      " [1 0 0]\n",
      " [1 0 0]\n",
      " [1 0 0]\n",
      " [1 0 0]\n",
      " [1 0 0]\n",
      " [1 0 0]\n",
      " [1 0 0]\n",
      " [1 0 0]\n",
      " [1 0 0]\n",
      " [1 0 0]\n",
      " [1 0 0]\n",
      " [1 0 0]\n",
      " [1 0 0]\n",
      " [1 0 0]\n",
      " [1 0 0]\n",
      " [1 0 0]\n",
      " [1 0 0]\n",
      " [1 0 0]\n",
      " [1 0 0]\n",
      " [1 0 0]\n",
      " [1 0 0]\n",
      " [1 0 0]\n",
      " [1 0 0]\n",
      " [1 0 0]\n",
      " [1 0 0]\n",
      " [0 1 0]\n",
      " [0 1 0]\n",
      " [0 1 0]\n",
      " [0 1 0]\n",
      " [0 1 0]\n",
      " [0 1 0]\n",
      " [0 1 0]\n",
      " [0 1 0]\n",
      " [0 1 0]\n",
      " [0 1 0]\n",
      " [0 1 0]\n",
      " [0 1 0]\n",
      " [0 1 0]\n",
      " [0 1 0]\n",
      " [0 1 0]\n",
      " [0 1 0]\n",
      " [0 1 0]\n",
      " [0 1 0]\n",
      " [0 0 1]\n",
      " [0 1 0]\n",
      " [0 0 1]\n",
      " [0 1 0]\n",
      " [0 0 1]\n",
      " [0 1 0]\n",
      " [0 1 0]\n",
      " [0 1 0]\n",
      " [0 1 0]\n",
      " [0 1 0]\n",
      " [0 1 0]\n",
      " [0 1 0]\n",
      " [0 1 0]\n",
      " [0 1 0]\n",
      " [0 1 0]\n",
      " [0 0 1]\n",
      " [0 1 0]\n",
      " [0 1 0]\n",
      " [0 1 0]\n",
      " [0 1 0]\n",
      " [0 1 0]\n",
      " [0 1 0]\n",
      " [0 1 0]\n",
      " [0 1 0]\n",
      " [0 1 0]\n",
      " [0 1 0]\n",
      " [0 1 0]\n",
      " [0 1 0]\n",
      " [0 1 0]\n",
      " [0 1 0]\n",
      " [0 1 0]\n",
      " [0 1 0]\n",
      " [0 0 1]\n",
      " [0 0 1]\n",
      " [0 0 1]\n",
      " [0 0 1]\n",
      " [0 0 1]\n",
      " [0 0 1]\n",
      " [0 0 1]\n",
      " [0 0 1]\n",
      " [0 0 1]\n",
      " [0 0 1]\n",
      " [0 0 1]\n",
      " [0 0 1]\n",
      " [0 0 1]\n",
      " [0 0 1]\n",
      " [0 0 1]\n",
      " [0 0 1]\n",
      " [0 0 1]\n",
      " [0 0 1]\n",
      " [0 0 1]\n",
      " [0 0 1]\n",
      " [0 0 1]\n",
      " [0 0 1]\n",
      " [0 0 1]\n",
      " [0 0 1]\n",
      " [0 0 1]\n",
      " [0 0 1]\n",
      " [0 0 1]\n",
      " [0 0 1]\n",
      " [0 0 1]\n",
      " [0 0 1]\n",
      " [0 0 1]\n",
      " [0 0 1]\n",
      " [0 0 1]\n",
      " [0 0 1]\n",
      " [0 0 1]\n",
      " [0 0 1]\n",
      " [0 0 1]\n",
      " [0 0 1]\n",
      " [0 0 1]\n",
      " [0 0 1]\n",
      " [0 0 1]\n",
      " [0 0 1]\n",
      " [0 0 1]\n",
      " [0 0 1]\n",
      " [0 0 1]\n",
      " [0 0 1]\n",
      " [0 0 1]\n",
      " [0 0 1]\n",
      " [0 0 1]\n",
      " [0 0 1]]\n"
     ]
    }
   ],
   "source": [
    "#Set classifier\n",
    "clf2 = MLPClassifier(solver='adam', alpha=1e-5,hidden_layer_sizes=(15, ), random_state=1, max_iter=10000, batch_size= 1, learning_rate_init=0.03)\n",
    "#Keterangan Parameter :\n",
    "# solver \"adam\" untuk gradient descent\n",
    "# hidden layer sizes sebesar 5\n",
    "# max_iter, iterasi maksimum 1000\n",
    "# batch_size, besar batch 10\n",
    "# learning_rate_init, learning rate \n",
    "\n",
    "# clf.fit(X, y)\n",
    "clf2.fit(x,target2)\n",
    "\n",
    "# clf.predict([[5.4, 3.9, 1.7, 0.4],[6.5, 3. , 5.2, 2. ]])\n",
    "clfResult2 = clf2.predict(x)\n",
    "# print(x)\n",
    "# print(target)\n",
    "print(clfResult2)"
   ]
  },
  {
   "cell_type": "code",
   "execution_count": 19,
   "metadata": {},
   "outputs": [
    {
     "name": "stdout",
     "output_type": "stream",
     "text": [
      "Hasil predict iris model:  [0, 0, 0, 0, 0, 0, 0, 0, 0, 0, 0, 0, 0, 0, 0, 0, 0, 0, 0, 0, 0, 0, 0, 0, 0, 0, 0, 0, 0, 0, 0, 0, 0, 0, 0, 0, 0, 0, 0, 0, 0, 0, 0, 0, 0, 0, 0, 0, 0, 0, 1, 1, 1, 1, 1, 1, 1, 1, 1, 1, 1, 1, 1, 1, 1, 1, 2, 1, 1, 1, 2, 1, 2, 1, 1, 1, 1, 1, 1, 1, 1, 1, 1, 2, 2, 1, 1, 1, 1, 1, 1, 1, 1, 1, 1, 1, 1, 1, 1, 1, 2, 2, 2, 2, 2, 2, 2, 2, 2, 2, 2, 2, 2, 2, 2, 2, 2, 2, 2, 2, 2, 2, 2, 2, 2, 2, 2, 2, 2, 2, 2, 2, 2, 2, 2, 2, 2, 2, 2, 2, 2, 2, 2, 2, 2, 2, 2, 2, 2, 2]\n",
      "Hasil predict sklearn:  [0, 0, 0, 0, 0, 0, 0, 0, 0, 0, 0, 0, 0, 0, 0, 0, 0, 0, 0, 0, 0, 0, 0, 0, 0, 0, 0, 0, 0, 0, 0, 0, 0, 0, 0, 0, 0, 0, 0, 0, 0, 0, 0, 0, 0, 0, 0, 0, 0, 0, 1, 1, 1, 1, 1, 1, 1, 1, 1, 1, 1, 1, 1, 1, 1, 1, 1, 1, 2, 1, 2, 1, 2, 1, 1, 1, 1, 1, 1, 1, 1, 1, 1, 2, 1, 1, 1, 1, 1, 1, 1, 1, 1, 1, 1, 1, 1, 1, 1, 1, 2, 2, 2, 2, 2, 2, 2, 2, 2, 2, 2, 2, 2, 2, 2, 2, 2, 2, 2, 2, 2, 2, 2, 2, 2, 2, 2, 2, 2, 2, 2, 2, 2, 2, 2, 2, 2, 2, 2, 2, 2, 2, 2, 2, 2, 2, 2, 2, 2, 2]\n",
      "Target:  [0, 0, 0, 0, 0, 0, 0, 0, 0, 0, 0, 0, 0, 0, 0, 0, 0, 0, 0, 0, 0, 0, 0, 0, 0, 0, 0, 0, 0, 0, 0, 0, 0, 0, 0, 0, 0, 0, 0, 0, 0, 0, 0, 0, 0, 0, 0, 0, 0, 0, 1, 1, 1, 1, 1, 1, 1, 1, 1, 1, 1, 1, 1, 1, 1, 1, 1, 1, 1, 1, 1, 1, 1, 1, 1, 1, 1, 1, 1, 1, 1, 1, 1, 1, 1, 1, 1, 1, 1, 1, 1, 1, 1, 1, 1, 1, 1, 1, 1, 1, 2, 2, 2, 2, 2, 2, 2, 2, 2, 2, 2, 2, 2, 2, 2, 2, 2, 2, 2, 2, 2, 2, 2, 2, 2, 2, 2, 2, 2, 2, 2, 2, 2, 2, 2, 2, 2, 2, 2, 2, 2, 2, 2, 2, 2, 2, 2, 2, 2, 2]\n"
     ]
    }
   ],
   "source": [
    "hasil_predict_unprocessed2 = ffnn2.predictBatch(x)\n",
    "hasil_predict2 = convertEncoding(hasil_predict_unprocessed2)\n",
    "target_predict2 = convertEncoding(target2)\n",
    "clf_result2 = convertEncoding(clfResult2.tolist())\n",
    "print(\"Hasil predict iris model: \",hasil_predict2)\n",
    "print(\"Hasil predict sklearn: \",clf_result2)\n",
    "print(\"Target: \",target_predict2)"
   ]
  },
  {
   "cell_type": "code",
   "execution_count": 20,
   "metadata": {},
   "outputs": [
    {
     "name": "stdout",
     "output_type": "stream",
     "text": [
      "Hasil confusion matrix library sklearn\n",
      "Hasil predict iris model: \n",
      " [[50  0  0]\n",
      " [ 0 45  5]\n",
      " [ 0  0 50]]\n",
      "Hasil predict model sklearn: \n",
      " [[50  0  0]\n",
      " [ 0 46  4]\n",
      " [ 0  0 50]]\n",
      "Hasil confusion matrix implementasi\n",
      "Hasil predict iris model: \n",
      " [[50  0  0]\n",
      " [ 0 45  5]\n",
      " [ 0  0 50]]\n",
      "Hasil predict model sklearn: \n",
      " [[50  0  0]\n",
      " [ 0 46  4]\n",
      " [ 0  0 50]]\n"
     ]
    },
    {
     "data": {
      "image/png": "[encoded data removed]",
      "text/plain": [
       "<Figure size 432x288 with 2 Axes>"
      ]
     },
     "metadata": {
      "needs_background": "light"
     },
     "output_type": "display_data"
    },
    {
     "data": {
      "image/png": "[encoded data removed]",
      "text/plain": [
       "<Figure size 432x288 with 2 Axes>"
      ]
     },
     "metadata": {
      "needs_background": "light"
     },
     "output_type": "display_data"
    }
   ],
   "source": [
    "print(\"Hasil confusion matrix library sklearn\")\n",
    "print(\"Hasil predict iris model: \\n\",confusion_matrix(target_predict2,hasil_predict2))\n",
    "print(\"Hasil predict model sklearn: \\n\",confusion_matrix(target_predict2,clf_result2))\n",
    "\n",
    "print(\"Hasil confusion matrix implementasi\")\n",
    "print(\"Hasil predict iris model: \\n\",getConfusionMatrix(target_predict2,hasil_predict2))\n",
    "print(\"Hasil predict model sklearn: \\n\",getConfusionMatrix(target_predict2,clf_result2))\n",
    "ax= plt.subplot()\n",
    "sns.heatmap(getConfusionMatrix(target_predict2,hasil_predict2), annot=True, fmt='g', ax=ax)\n",
    "ax.set_xlabel('Predicted labels');ax.set_ylabel('True labels') \n",
    "ax.set_title('Confusion Matrix iris model')\n",
    "ax.xaxis.set_ticklabels(['0', '1','2']); ax.yaxis.set_ticklabels(['0', '1','2'])\n",
    "plt.show()\n",
    "ax= plt.subplot()\n",
    "sns.heatmap(getConfusionMatrix(target_predict2,clf_result2), annot=True, fmt='g', ax=ax)\n",
    "ax.set_xlabel('Predicted labels');ax.set_ylabel('True labels') \n",
    "ax.set_title('Confusion Matrix sklearn')\n",
    "ax.xaxis.set_ticklabels(['0', '1','2']); ax.yaxis.set_ticklabels(['0', '1','2'])\n",
    "plt.show()"
   ]
  },
  {
   "cell_type": "code",
   "execution_count": 21,
   "metadata": {},
   "outputs": [
    {
     "name": "stdout",
     "output_type": "stream",
     "text": [
      "Hasil metric sklearn\n",
      "--Hasil model iris implementasi--\n",
      "Accuracy:  145\n",
      "Precision:  [1.         1.         0.90909091]\n",
      "Recall:  [1.  0.9 1. ]\n",
      "F1:  [1.         0.94736842 0.95238095]\n",
      "--Hasil model sklearn--\n",
      "Accuracy:  146\n",
      "Precision:  [1.         1.         0.92592593]\n",
      "Recall:  [1.   0.92 1.  ]\n",
      "F1:  [1.         0.95833333 0.96153846]\n",
      "Hasil metric implementasi\n",
      "--Hasil model iris implementasi--\n",
      "Accuracy:  0.9666666666666667\n",
      "label precision recall f1\n",
      "    0     1.000  1.000 1.000\n",
      "    1     1.000  0.900 0.947\n",
      "    2     0.909  1.000 0.952\n",
      "--Hasil model sklearn--\n",
      "Accuracy:  0.9733333333333334\n",
      "label precision recall f1\n",
      "    0     1.000  1.000 1.000\n",
      "    1     1.000  0.920 0.958\n",
      "    2     0.926  1.000 0.962\n"
     ]
    }
   ],
   "source": [
    "print(\"Hasil metric sklearn\")\n",
    "print(\"--Hasil model iris implementasi--\")\n",
    "print(\"Accuracy: \",accuracy_score(target_predict2,hasil_predict2, normalize=False))\n",
    "print(\"Precision: \",precision_score(target_predict2,hasil_predict2, average=None))\n",
    "print(\"Recall: \",recall_score(target_predict2,hasil_predict2, average=None))\n",
    "print(\"F1: \",f1_score(target_predict2,hasil_predict2, average=None))\n",
    "print(\"--Hasil model sklearn--\")\n",
    "print(\"Accuracy: \",accuracy_score(target_predict2,clf_result2, normalize=False))\n",
    "print(\"Precision: \",precision_score(target_predict2,clf_result2, average=None))\n",
    "print(\"Recall: \",recall_score(target_predict2,clf_result2, average=None))\n",
    "print(\"F1: \",f1_score(target_predict2,clf_result2, average=None))\n",
    "\n",
    "print(\"Hasil metric implementasi\")\n",
    "print(\"--Hasil model iris implementasi--\")\n",
    "getMetrics(target_predict2,hasil_predict2)\n",
    "print(\"--Hasil model sklearn--\")\n",
    "getMetrics(target_predict2,clf_result2)"
   ]
  },
  {
   "cell_type": "markdown",
   "metadata": {},
   "source": [
    "# Nomor3"
   ]
  },
  {
   "cell_type": "code",
   "execution_count": 22,
   "metadata": {},
   "outputs": [],
   "source": [
    "from FFNN import FFNN\n",
    "from sklearn import datasets\n",
    "from sklearn.neural_network import MLPClassifier\n",
    "import random\n",
    "import numpy as np\n",
    "iris = datasets.load_iris()\n",
    "x = iris.data.tolist() \n",
    "\n",
    "y = iris.target\n",
    "\n",
    "target = []\n",
    "for i in range(len(y)):\n",
    "    if (y[i] == 0):\n",
    "        target.append([1,0,0])\n",
    "    elif(y[i] == 1):\n",
    "        target.append([0,1,0])\n",
    "    else:\n",
    "        target.append([0,0,1])\n",
    "\n",
    "\n",
    "data = []\n",
    "for i in range(len(x)):\n",
    "    data.append((x[i],target[i]))\n",
    "\n",
    "trainingLen = (len(data) * 9) // 10\n",
    "testLen = len(data) - trainingLen\n",
    "\n",
    "random.seed(0)\n",
    "random.shuffle(data)\n",
    "x = []\n",
    "target = []\n",
    "x_test = []\n",
    "target_test = []\n",
    "for d in range (len(data)):\n",
    "    if (d < trainingLen):\n",
    "        x.append(data[d][0])\n",
    "        target.append(data[d][1])\n",
    "    else:\n",
    "        x_test.append(data[d][0])\n",
    "        target_test.append(data[d][1])"
   ]
  },
  {
   "cell_type": "code",
   "execution_count": 23,
   "metadata": {},
   "outputs": [
    {
     "name": "stdout",
     "output_type": "stream",
     "text": [
      "Layer 1:\n",
      "Fungsi Aktivasi:  linear\n",
      "Neuron 1: [0.1, 0.1, 0.1, 0.1, 0.1]\n",
      "Neuron 2: [0.1, 0.1, 0.1, 0.1, 0.1]\n",
      "Layer 2:\n",
      "Fungsi Aktivasi:  linear\n",
      "Neuron 1: [1.0, 1.0, 1.0]\n",
      "Neuron 2: [1.0, 1.0, 1.0]\n",
      "Neuron 3: [1.0, 1.0, 1.0]\n",
      "Layer 3:\n",
      "Fungsi Aktivasi:  softmax\n",
      "Neuron 1: [1.0, 1.0, 1.0, 0.5]\n",
      "Neuron 2: [1.0, 0.5, 0.5, 0.5]\n",
      "Neuron 3: [1.0, 0.5, 0.5, 1.0]\n",
      "Layer 1:\n",
      "Fungsi Aktivasi:  linear\n",
      "Neuron 1: [0.5257120832629552, 1.2361772108341045, 0.9625620025604665, -0.9472367533864436, -1.209726023999975]\n",
      "Neuron 2: [0.46970020941141294, 0.8718934638075373, 0.768886726775412, -1.0316665816713222, -1.1917885167181452]\n",
      "Layer 2:\n",
      "Fungsi Aktivasi:  linear\n",
      "Neuron 1: [2.4616323804598075, 1.6777922036609725, 0.6176249145472962]\n",
      "Neuron 2: [1.212881510915601, 2.1895384380213705, -0.19079671608845014]\n",
      "Neuron 3: [-1.0706638945059965, -3.091381285263246, 1.5639771660118813]\n",
      "Layer 3:\n",
      "Fungsi Aktivasi:  softmax\n",
      "Neuron 1: [-13.947642028865502, 20.10555550068345, 15.108782873057232, 29.86983792688108]\n",
      "Neuron 2: [15.509339313215024, 10.061765266851907, -5.612720718689057, 3.114035278567247]\n",
      "Neuron 3: [1.4383027156518478, -28.167320767534093, -7.496062154367859, -30.983873205449544]\n",
      "iter:  1000\n",
      "error:  125.92819705903479\n"
     ]
    }
   ],
   "source": [
    "ffnn = FFNN(\"IrisModel4.txt\")\n",
    "ffnn.printModel()\n",
    "ffnn.setBackwardParameter(target, 0.1)\n",
    "ffnn.backward(1, 0.1, 1000, x)"
   ]
  },
  {
   "cell_type": "code",
   "execution_count": 24,
   "metadata": {},
   "outputs": [
    {
     "name": "stdout",
     "output_type": "stream",
     "text": [
      "[[0 0 1]\n",
      " [0 1 0]\n",
      " [1 0 0]\n",
      " [0 1 0]\n",
      " [0 1 0]\n",
      " [0 1 0]\n",
      " [0 0 1]\n",
      " [0 1 0]\n",
      " [0 0 1]\n",
      " [0 0 1]\n",
      " [0 0 1]\n",
      " [0 1 0]\n",
      " [1 0 0]\n",
      " [0 0 1]\n",
      " [0 1 0]]\n"
     ]
    }
   ],
   "source": [
    "#Set classifier\n",
    "clf = MLPClassifier(solver='adam', alpha=1e-5,hidden_layer_sizes=(5, ), random_state=1, max_iter=10000, batch_size= 1, learning_rate_init=0.03)\n",
    "#Keterangan Parameter :\n",
    "# solver \"adam\" untuk gradient descent\n",
    "# hidden layer sizes sebesar 5\n",
    "# max_iter, iterasi maksimum 1000\n",
    "# batch_size, besar batch 10\n",
    "# learning_rate_init, learning rate \n",
    "\n",
    "# clf.fit(X, y)\n",
    "clf.fit(x,target)\n",
    "\n",
    "# clf.predict([[5.4, 3.9, 1.7, 0.4],[6.5, 3. , 5.2, 2. ]])\n",
    "clfResult = clf.predict(x_test)\n",
    "# print(x)\n",
    "# print(target)\n",
    "print(clfResult)"
   ]
  },
  {
   "cell_type": "code",
   "execution_count": 26,
   "metadata": {},
   "outputs": [
    {
     "name": "stdout",
     "output_type": "stream",
     "text": [
      "Hasil predict iris model:  [2, 2, 0, 2, 1, 1, 2, 1, 2, 2, 2, 1, 0, 2, 1]\n",
      "Hasil predict sklearn:  [2, 1, 0, 1, 1, 1, 2, 1, 2, 2, 2, 1, 0, 2, 1]\n",
      "Target:  [2, 1, 0, 2, 1, 1, 2, 1, 2, 2, 2, 1, 0, 2, 1]\n"
     ]
    }
   ],
   "source": [
    "hasil_predict_unprocessed = ffnn.predictBatch(x_test)\n",
    "hasil_predict = convertEncoding(hasil_predict_unprocessed)\n",
    "target_predict = convertEncoding(target_test)\n",
    "clf_result = convertEncoding(clfResult.tolist())\n",
    "print(\"Hasil predict iris model: \",hasil_predict)\n",
    "print(\"Hasil predict sklearn: \",clf_result)\n",
    "print(\"Target: \",target_predict)"
   ]
  },
  {
   "cell_type": "code",
   "execution_count": 27,
   "metadata": {},
   "outputs": [
    {
     "name": "stdout",
     "output_type": "stream",
     "text": [
      "Hasil confusion matrix library sklearn\n",
      "Hasil predict iris model: \n",
      " [[2 0 0]\n",
      " [0 5 1]\n",
      " [0 0 7]]\n",
      "Hasil predict model sklearn: \n",
      " [[2 0 0]\n",
      " [0 6 0]\n",
      " [0 1 6]]\n",
      "Hasil confusion matrix implementasi\n",
      "Hasil predict iris model: \n",
      " [[2 0 0]\n",
      " [0 5 1]\n",
      " [0 0 7]]\n",
      "Hasil predict model sklearn: \n",
      " [[2 0 0]\n",
      " [0 6 0]\n",
      " [0 1 6]]\n"
     ]
    },
    {
     "data": {
      "image/png": "[encoded data removed]",
      "text/plain": [
       "<Figure size 432x288 with 2 Axes>"
      ]
     },
     "metadata": {
      "needs_background": "light"
     },
     "output_type": "display_data"
    },
    {
     "data": {
      "image/png": "[encoded data removed]",
      "text/plain": [
       "<Figure size 432x288 with 2 Axes>"
      ]
     },
     "metadata": {
      "needs_background": "light"
     },
     "output_type": "display_data"
    }
   ],
   "source": [
    "print(\"Hasil confusion matrix library sklearn\")\n",
    "print(\"Hasil predict iris model: \\n\",confusion_matrix(target_predict,hasil_predict))\n",
    "print(\"Hasil predict model sklearn: \\n\",confusion_matrix(target_predict,clf_result))\n",
    "print(\"Hasil confusion matrix implementasi\")\n",
    "print(\"Hasil predict iris model: \\n\",getConfusionMatrix(target_predict,hasil_predict))\n",
    "print(\"Hasil predict model sklearn: \\n\",getConfusionMatrix(target_predict,clf_result))\n",
    "ax= plt.subplot()\n",
    "sns.heatmap(getConfusionMatrix(target_predict,hasil_predict), annot=True, fmt='g', ax=ax)\n",
    "ax.set_xlabel('Predicted labels');ax.set_ylabel('True labels') \n",
    "ax.set_title('Confusion Matrix iris model')\n",
    "ax.xaxis.set_ticklabels(['0', '1','2']); ax.yaxis.set_ticklabels(['0', '1','2'])\n",
    "plt.show()\n",
    "ax= plt.subplot()\n",
    "sns.heatmap(getConfusionMatrix(target_predict,clf_result), annot=True, fmt='g', ax=ax)\n",
    "ax.set_xlabel('Predicted labels');ax.set_ylabel('True labels') \n",
    "ax.set_title('Confusion Matrix sklearn')\n",
    "ax.xaxis.set_ticklabels(['0', '1','2']); ax.yaxis.set_ticklabels(['0', '1','2'])\n",
    "plt.show()"
   ]
  },
  {
   "cell_type": "code",
   "execution_count": 28,
   "metadata": {},
   "outputs": [
    {
     "name": "stdout",
     "output_type": "stream",
     "text": [
      "Hasil metric sklearn\n",
      "--Hasil model iris implementasi--\n",
      "Accuracy:  14\n",
      "Precision:  [1.    1.    0.875]\n",
      "Recall:  [1.         0.83333333 1.        ]\n",
      "F1:  [1.         0.90909091 0.93333333]\n",
      "--Hasil model sklearn--\n",
      "Accuracy:  14\n",
      "Precision:  [1.         0.85714286 1.        ]\n",
      "Recall:  [1.         1.         0.85714286]\n",
      "F1:  [1.         0.92307692 0.92307692]\n"
     ]
    }
   ],
   "source": [
    "print(\"Hasil metric sklearn\")\n",
    "print(\"--Hasil model iris implementasi--\")\n",
    "print(\"Accuracy: \",accuracy_score(target_predict,hasil_predict, normalize=False))\n",
    "print(\"Precision: \",precision_score(target_predict,hasil_predict, average=None))\n",
    "print(\"Recall: \",recall_score(target_predict,hasil_predict, average=None))\n",
    "print(\"F1: \",f1_score(target_predict,hasil_predict, average=None))\n",
    "print(\"--Hasil model sklearn--\")\n",
    "print(\"Accuracy: \",accuracy_score(target_predict,clf_result, normalize=False))\n",
    "print(\"Precision: \",precision_score(target_predict,clf_result, average=None))\n",
    "print(\"Recall: \",recall_score(target_predict,clf_result, average=None))\n",
    "print(\"F1: \",f1_score(target_predict,clf_result, average=None))"
   ]
  },
  {
   "cell_type": "code",
   "execution_count": 29,
   "metadata": {},
   "outputs": [
    {
     "name": "stdout",
     "output_type": "stream",
     "text": [
      "Hasil metric implementasi\n",
      "--Hasil model iris implementasi--\n",
      "Accuracy:  0.9333333333333333\n",
      "label precision recall f1\n",
      "    0     1.000  1.000 1.000\n",
      "    1     1.000  0.833 0.909\n",
      "    2     0.875  1.000 0.933\n",
      "--Hasil model sklearn--\n",
      "Accuracy:  0.9333333333333333\n",
      "label precision recall f1\n",
      "    0     1.000  1.000 1.000\n",
      "    1     0.857  1.000 0.923\n",
      "    2     1.000  0.857 0.923\n"
     ]
    }
   ],
   "source": [
    "print(\"Hasil metric implementasi\")\n",
    "print(\"--Hasil model iris implementasi--\")\n",
    "getMetrics(target_predict,hasil_predict)\n",
    "print(\"--Hasil model sklearn--\")\n",
    "getMetrics(target_predict,clf_result)"
   ]
  },
  {
   "cell_type": "markdown",
   "metadata": {},
   "source": [
    "# Nomor 4"
   ]
  },
  {
   "cell_type": "code",
   "execution_count": 30,
   "metadata": {},
   "outputs": [],
   "source": [
    "# load dataset\n",
    "iris = datasets.load_iris()\n",
    "x = iris.data.tolist()  # we only take the first two features.\n",
    "\n",
    "y = iris.target\n",
    "\n",
    "target = []\n",
    "for i in range(len(y)):\n",
    "    if (y[i] == 0):\n",
    "        target.append([1,0,0])\n",
    "    elif(y[i] == 1):\n",
    "        target.append([0,1,0])\n",
    "    else:\n",
    "        target.append([0,0,1])\n",
    "\n",
    "\n",
    "data = []\n",
    "for i in range(len(x)):\n",
    "    data.append((x[i],target[i]))"
   ]
  },
  {
   "cell_type": "code",
   "execution_count": 31,
   "metadata": {},
   "outputs": [],
   "source": [
    "# separate test and training data\n",
    "trainingLen = (len(data) * 9) // 10\n",
    "testLen = len(data) - trainingLen\n",
    "\n",
    "random.seed(0)\n",
    "random.shuffle(data)\n",
    "x = []\n",
    "target = []\n",
    "x_test = []\n",
    "target_test = []\n",
    "for d in range (len(data)):\n",
    "    if (d < trainingLen):\n",
    "        x.append(data[d][0])\n",
    "        target.append(data[d][1])\n",
    "    else:\n",
    "        x_test.append(data[d][0])\n",
    "        target_test.append(data[d][1])"
   ]
  },
  {
   "cell_type": "code",
   "execution_count": 32,
   "metadata": {},
   "outputs": [],
   "source": [
    "#  split training data to 10 part\n",
    "def split(a, n):\n",
    "    k, m = divmod(len(a), n)\n",
    "    return [a[i*k+min(i, m):(i+1)*k+min(i+1, m)] for i in range(n)]\n",
    "x_splitted = split(x, 10)\n",
    "target_splitted = split(target, 10)"
   ]
  },
  {
   "cell_type": "code",
   "execution_count": 33,
   "metadata": {},
   "outputs": [
    {
     "name": "stdout",
     "output_type": "stream",
     "text": [
      "Layer 1:\n",
      "Fungsi Aktivasi:  linear\n",
      "Neuron 1: [0.1, 0.1, 0.1, 0.1, 0.1]\n",
      "Neuron 2: [0.1, 0.1, 0.1, 0.1, 0.1]\n",
      "Layer 2:\n",
      "Fungsi Aktivasi:  linear\n",
      "Neuron 1: [1.0, 1.0, 1.0]\n",
      "Neuron 2: [1.0, 1.0, 1.0]\n",
      "Neuron 3: [1.0, 1.0, 1.0]\n",
      "Layer 3:\n",
      "Fungsi Aktivasi:  softmax\n",
      "Neuron 1: [1.0, 1.0, 1.0, 0.5]\n",
      "Neuron 2: [1.0, 0.5, 0.5, 0.5]\n",
      "Neuron 3: [1.0, 0.5, 0.5, 1.0]\n",
      "Layer 1:\n",
      "Fungsi Aktivasi:  linear\n",
      "Neuron 1: [0.1, 0.1, 0.1, 0.1, 0.1]\n",
      "Neuron 2: [0.1, 0.1, 0.1, 0.1, 0.1]\n",
      "Layer 2:\n",
      "Fungsi Aktivasi:  linear\n",
      "Neuron 1: [1.0, 1.0, 1.0]\n",
      "Neuron 2: [1.0, 1.0, 1.0]\n",
      "Neuron 3: [1.0, 1.0, 1.0]\n",
      "Layer 3:\n",
      "Fungsi Aktivasi:  softmax\n",
      "Neuron 1: [1.0, 1.0, 1.0, 0.5]\n",
      "Neuron 2: [1.0, 0.5, 0.5, 0.5]\n",
      "Neuron 3: [1.0, 0.5, 0.5, 1.0]\n"
     ]
    }
   ],
   "source": [
    "# create temp model and current model for iteration\n",
    "model_temp = FFNN(\"IrisModel4.txt\")\n",
    "model_temp.printModel()\n",
    "model_temp.setBackwardParameter(target, 0.1)\n",
    "\n",
    "model_current = FFNN(\"IrisModel4.txt\")\n",
    "model_current.printModel()\n",
    "model_current.setBackwardParameter(target, 0.1)"
   ]
  },
  {
   "cell_type": "code",
   "execution_count": 34,
   "metadata": {},
   "outputs": [
    {
     "name": "stdout",
     "output_type": "stream",
     "text": [
      "Layer 1:\n",
      "Fungsi Aktivasi:  linear\n",
      "Neuron 1: [0.7528500196264457, 0.7799674429942154, 0.761643600026739, -1.6952185139024372, -1.609764771961396]\n",
      "Neuron 2: [0.6831320600706465, 0.628481677404726, 0.6634641218392227, -1.718460644201833, -1.575987746407079]\n",
      "Layer 2:\n",
      "Fungsi Aktivasi:  linear\n",
      "Neuron 1: [2.178134622848769, 1.3982838337192756, 0.992413813581655]\n",
      "Neuron 2: [1.337955574515379, -0.9072081880384507, -0.5723609938159431]\n",
      "Neuron 3: [2.0763527762335823, -0.5644073908338695, -0.17134524522877592]\n",
      "Layer 3:\n",
      "Fungsi Aktivasi:  softmax\n",
      "Neuron 1: [-0.28676433687363, 5.327375168269749, 2.633886554956812, 0.9066672037486055]\n",
      "Neuron 2: [7.133063534061586, 3.4020577471297275, 1.5471809349666783, 3.9399218685219677]\n",
      "Neuron 3: [-3.8462991971879483, -6.729432915399462, -2.1810674899234974, -2.846589072270578]\n",
      "iter:  241\n",
      "error:  0.09804865675894549\n",
      "Layer 1:\n",
      "Fungsi Aktivasi:  linear\n",
      "Neuron 1: [0.7528500196264457, 0.7799674429942154, 0.761643600026739, -1.6952185139024372, -1.609764771961396]\n",
      "Neuron 2: [0.6831320600706465, 0.628481677404726, 0.6634641218392227, -1.718460644201833, -1.575987746407079]\n",
      "Layer 2:\n",
      "Fungsi Aktivasi:  linear\n",
      "Neuron 1: [2.178134622848769, 1.3982838337192756, 0.992413813581655]\n",
      "Neuron 2: [1.337955574515379, -0.9072081880384507, -0.5723609938159431]\n",
      "Neuron 3: [2.0763527762335823, -0.5644073908338695, -0.17134524522877592]\n",
      "Layer 3:\n",
      "Fungsi Aktivasi:  softmax\n",
      "Neuron 1: [-0.28676433687363, 5.327375168269749, 2.633886554956812, 0.9066672037486055]\n",
      "Neuron 2: [7.133063534061586, 3.4020577471297275, 1.5471809349666783, 3.9399218685219677]\n",
      "Neuron 3: [-3.8462991971879483, -6.729432915399462, -2.1810674899234974, -2.846589072270578]\n",
      "Layer 1:\n",
      "Fungsi Aktivasi:  linear\n",
      "Neuron 1: [0.752850465304311, 0.7799697545473644, 0.7616450538456027, -1.6952176671472932, -1.609764520842538]\n",
      "Neuron 2: [0.6831316637262647, 0.6284796629583964, 0.6634628115401129, -1.7184613097691581, -1.5759879400037278]\n",
      "Layer 2:\n",
      "Fungsi Aktivasi:  linear\n",
      "Neuron 1: [2.1781347046183757, 1.3982835752332792, 0.9924134404882317]\n",
      "Neuron 2: [1.3379572703635803, -0.9072023328359584, -0.5723571591784901]\n",
      "Neuron 3: [2.07635935172966, -0.5643840819212476, -0.17132974891433547]\n",
      "Layer 3:\n",
      "Fungsi Aktivasi:  softmax\n",
      "Neuron 1: [-0.28673945276464696, 5.327614194143507, 2.633804228409817, 0.9066580329635238]\n",
      "Neuron 2: [7.133039453624541, 3.4018151786372055, 1.5472675663121886, 3.939934188525893]\n",
      "Neuron 3: [-3.8463000008598867, -6.729429372780697, -2.181071794722012, -2.8465922214894213]\n",
      "iter:  1\n",
      "error:  0.0002574011911110852\n",
      "Layer 1:\n",
      "Fungsi Aktivasi:  linear\n",
      "Neuron 1: [0.7474718339139113, 0.610438237394233, 0.6495222566531441, -1.8606638495368801, -1.6983701032776597]\n",
      "Neuron 2: [0.8066761371534016, 1.4873383929059434, 1.0721588908811859, -1.0423963019123326, -1.3536936160327395]\n",
      "Layer 2:\n",
      "Fungsi Aktivasi:  linear\n",
      "Neuron 1: [2.050455047955954, 1.487264174800573, -2.2226104731024114]\n",
      "Neuron 2: [1.087565717172205, -1.4373136218823428, 1.0771915665702478]\n",
      "Neuron 3: [1.187742950095141, -0.4034524457299872, -2.6324819973066926]\n",
      "Layer 3:\n",
      "Fungsi Aktivasi:  softmax\n",
      "Neuron 1: [0.25058271608714583, 3.9456306835613737, -11.814372592214587, -14.195541538617773]\n",
      "Neuron 2: [9.409356658937496, 5.704791725340067, 2.51651410796092, -5.9274297999770384]\n",
      "Neuron 3: [-6.659939375024696, -7.650422408901445, 11.297858484253661, 22.12297133859483]\n",
      "iter:  1000\n",
      "error:  165.6340063499882\n",
      "Layer 1:\n",
      "Fungsi Aktivasi:  linear\n",
      "Neuron 1: [0.7474718339139113, 0.610438237394233, 0.6495222566531441, -1.8606638495368801, -1.6983701032776597]\n",
      "Neuron 2: [0.8066761371534016, 1.4873383929059434, 1.0721588908811859, -1.0423963019123326, -1.3536936160327395]\n",
      "Layer 2:\n",
      "Fungsi Aktivasi:  linear\n",
      "Neuron 1: [2.050455047955954, 1.487264174800573, -2.2226104731024114]\n",
      "Neuron 2: [1.087565717172205, -1.4373136218823428, 1.0771915665702478]\n",
      "Neuron 3: [1.187742950095141, -0.4034524457299872, -2.6324819973066926]\n",
      "Layer 3:\n",
      "Fungsi Aktivasi:  softmax\n",
      "Neuron 1: [0.25058271608714583, 3.9456306835613737, -11.814372592214587, -14.195541538617773]\n",
      "Neuron 2: [9.409356658937496, 5.704791725340067, 2.51651410796092, -5.9274297999770384]\n",
      "Neuron 3: [-6.659939375024696, -7.650422408901445, 11.297858484253661, 22.12297133859483]\n",
      "iter:  1\n",
      "error:  0.0\n",
      "Layer 1:\n",
      "Fungsi Aktivasi:  linear\n",
      "Neuron 1: [0.7474718339139113, 0.610438237394233, 0.6495222566531441, -1.8606638495368801, -1.6983701032776597]\n",
      "Neuron 2: [0.8066761371534016, 1.4873383929059434, 1.0721588908811859, -1.0423963019123326, -1.3536936160327395]\n",
      "Layer 2:\n",
      "Fungsi Aktivasi:  linear\n",
      "Neuron 1: [2.050455047955954, 1.487264174800573, -2.2226104731024114]\n",
      "Neuron 2: [1.087565717172205, -1.4373136218823428, 1.077191566570248]\n",
      "Neuron 3: [1.187742950095141, -0.40345244572998706, -2.6324819973066926]\n",
      "Layer 3:\n",
      "Fungsi Aktivasi:  softmax\n",
      "Neuron 1: [0.25058271608714583, 3.9456306835613737, -11.814372592214587, -14.195541538617773]\n",
      "Neuron 2: [9.409356658940066, 5.704791725291833, 2.516514107997924, -5.92742980001235]\n",
      "Neuron 3: [-6.659939375027267, -7.650422408853211, 11.297858484216658, 22.12297133863014]\n",
      "iter:  1\n",
      "error:  2.570677004631607e-11\n",
      "Layer 1:\n",
      "Fungsi Aktivasi:  linear\n",
      "Neuron 1: [0.7474718339139113, 0.610438237394233, 0.6495222566531441, -1.8606638495368801, -1.6983701032776597]\n",
      "Neuron 2: [0.8066761371534016, 1.4873383929059434, 1.0721588908811859, -1.0423963019123326, -1.3536936160327395]\n",
      "Layer 2:\n",
      "Fungsi Aktivasi:  linear\n",
      "Neuron 1: [2.050455047955954, 1.487264174800573, -2.2226104731024114]\n",
      "Neuron 2: [1.087565717172205, -1.4373136218823428, 1.077191566570248]\n",
      "Neuron 3: [1.187742950095141, -0.40345244572998706, -2.6324819973066926]\n",
      "Layer 3:\n",
      "Fungsi Aktivasi:  softmax\n",
      "Neuron 1: [0.25058271608714583, 3.9456306835613737, -11.814372592214587, -14.195541538617773]\n",
      "Neuron 2: [9.409356658940066, 5.704791725291833, 2.516514107997924, -5.92742980001235]\n",
      "Neuron 3: [-6.659939375027267, -7.650422408853211, 11.297858484216658, 22.12297133863014]\n",
      "iter:  1\n",
      "error:  0.0\n",
      "Layer 1:\n",
      "Fungsi Aktivasi:  linear\n",
      "Neuron 1: [0.7474718339139113, 0.610438237394233, 0.6495222566531441, -1.8606638495368801, -1.6983701032776597]\n",
      "Neuron 2: [0.8066761371534016, 1.4873383929059434, 1.0721588908811859, -1.0423963019123326, -1.3536936160327395]\n",
      "Layer 2:\n",
      "Fungsi Aktivasi:  linear\n",
      "Neuron 1: [2.050455047955954, 1.487264174800573, -2.2226104731024114]\n",
      "Neuron 2: [1.087565717172205, -1.4373136218823428, 1.077191566570248]\n",
      "Neuron 3: [1.187742950095141, -0.40345244572998706, -2.6324819973066926]\n",
      "Layer 3:\n",
      "Fungsi Aktivasi:  softmax\n",
      "Neuron 1: [0.25058271608714333, 3.945630683561411, -11.814372592214614, -14.19554153861774]\n",
      "Neuron 2: [9.40935665894007, 5.704791725291796, 2.516514107997952, -5.9274298000123835]\n",
      "Neuron 3: [-6.659939375027267, -7.650422408853211, 11.297858484216658, 22.12297133863014]\n",
      "iter:  1\n",
      "error:  2.5091040356528702e-14\n",
      "Layer 1:\n",
      "Fungsi Aktivasi:  linear\n",
      "Neuron 1: [0.7474717897071981, 0.6104379942493425, 0.6495221417117059, -1.860664044050402, -1.6983701563283715]\n",
      "Neuron 2: [0.8066761379509335, 1.4873383972920788, 1.0721588929546237, -1.0423962984033373, -1.3536936150757979]\n",
      "Layer 2:\n",
      "Fungsi Aktivasi:  linear\n",
      "Neuron 1: [2.0504550896967, 1.4872639898291369, -2.2226102408618393]\n",
      "Neuron 2: [1.087566816578227, -1.4373184939626107, 1.0771976837844892]\n",
      "Neuron 3: [1.1877386681064914, -0.40343347015438286, -2.632505822192934]\n",
      "Layer 3:\n",
      "Fungsi Aktivasi:  softmax\n",
      "Neuron 1: [0.25058271608714333, 3.945630683561411, -11.814372592214614, -14.19554153861774]\n",
      "Neuron 2: [9.466575913640757, 4.737204999381337, 3.286254436808929, -6.595410348155426]\n",
      "Neuron 3: [-6.717158629727952, -6.682835682942751, 10.52811815540568, 22.79095188677318]\n",
      "iter:  2\n",
      "error:  0.0\n",
      "Layer 1:\n",
      "Fungsi Aktivasi:  linear\n",
      "Neuron 1: [0.7474744345411907, 0.6104520447399902, 0.649531040314035, -1.8606582085933447, -1.6983683269527843]\n",
      "Neuron 2: [0.8066758842226788, 1.4873366999928934, 1.072158078703072, -1.042397604289936, -1.3536941297695362]\n",
      "Layer 2:\n",
      "Fungsi Aktivasi:  linear\n",
      "Neuron 1: [2.0504547740444945, 1.4872628282844536, -2.2226134839383915]\n",
      "Neuron 2: [1.0876072278720348, -1.4373171342918412, 1.0775485803840363]\n",
      "Neuron 3: [1.1879541371167086, -0.4048147146553955, -2.6312374497538604]\n",
      "Layer 3:\n",
      "Fungsi Aktivasi:  softmax\n",
      "Neuron 1: [0.2793244647178938, 4.753270758455161, -13.888511613696851, -18.540171703245093]\n",
      "Neuron 2: [9.42227258475717, 5.782023795204984, 0.9510982497013855, -10.548248929206174]\n",
      "Neuron 3: [-6.701597049475102, -8.535294553660144, 14.937413363995455, 31.088420632451257]\n",
      "iter:  38\n",
      "error:  0.009333893274207972\n",
      "Layer 1:\n",
      "Fungsi Aktivasi:  linear\n",
      "Neuron 1: [0.7474744345411907, 0.6104520447399902, 0.649531040314035, -1.8606582085933447, -1.6983683269527843]\n",
      "Neuron 2: [0.8066758842226788, 1.4873366999928934, 1.072158078703072, -1.042397604289936, -1.3536941297695362]\n",
      "Layer 2:\n",
      "Fungsi Aktivasi:  linear\n",
      "Neuron 1: [2.0504547740444945, 1.4872628282844536, -2.2226134839383915]\n",
      "Neuron 2: [1.0876072278720348, -1.4373171342918412, 1.0775485803840363]\n",
      "Neuron 3: [1.1879541371167086, -0.40481471465539537, -2.6312374497538604]\n",
      "Layer 3:\n",
      "Fungsi Aktivasi:  softmax\n",
      "Neuron 1: [0.2793244647178938, 4.753270758455161, -13.888511613696851, -18.540171703245093]\n",
      "Neuron 2: [9.422272584757243, 5.782023795203743, 0.9510982497023931, -10.548248929206961]\n",
      "Neuron 3: [-6.701597049475175, -8.535294553658904, 14.937413363994448, 31.088420632452042]\n",
      "iter:  1\n",
      "error:  7.254197242903399e-13\n"
     ]
    }
   ],
   "source": [
    "# fill and compare 10 model to find the best one\n",
    "for i in range(10):\n",
    "    model_temp.setBackwardParameter(target_splitted[i], 0.1)\n",
    "    model_temp.backward(1, 0.1, 1000, x_splitted[i])\n",
    "    #Predict dulu\n",
    "    #cek F1-score\n",
    "    if(model_temp.cumulative_error < model_current.cumulative_error):\n",
    "        model_current = model_temp\n",
    "        model_current.printModel()"
   ]
  },
  {
   "cell_type": "code",
   "execution_count": 35,
   "metadata": {},
   "outputs": [
    {
     "name": "stdout",
     "output_type": "stream",
     "text": [
      "Layer 1:\n",
      "Fungsi Aktivasi:  linear\n",
      "Neuron 1: [0.7474744345411907, 0.6104520447399902, 0.649531040314035, -1.8606582085933447, -1.6983683269527843]\n",
      "Neuron 2: [0.8066758842226788, 1.4873366999928934, 1.072158078703072, -1.042397604289936, -1.3536941297695362]\n",
      "Layer 2:\n",
      "Fungsi Aktivasi:  linear\n",
      "Neuron 1: [2.0504547740444945, 1.4872628282844536, -2.2226134839383915]\n",
      "Neuron 2: [1.0876072278720348, -1.4373171342918412, 1.0775485803840363]\n",
      "Neuron 3: [1.1879541371167086, -0.40481471465539537, -2.6312374497538604]\n",
      "Layer 3:\n",
      "Fungsi Aktivasi:  softmax\n",
      "Neuron 1: [0.2793244647178938, 4.753270758455161, -13.888511613696851, -18.540171703245093]\n",
      "Neuron 2: [9.422272584757243, 5.782023795203743, 0.9510982497023931, -10.548248929206961]\n",
      "Neuron 3: [-6.701597049475175, -8.535294553658904, 14.937413363994448, 31.088420632452042]\n",
      "Error:  7.254197242903399e-13\n"
     ]
    }
   ],
   "source": [
    "# print model terbaik dan error\n",
    "model_current.printModel()\n",
    "print(\"Error: \",model_current.cumulative_error)"
   ]
  },
  {
   "cell_type": "code",
   "execution_count": 36,
   "metadata": {},
   "outputs": [
    {
     "name": "stdout",
     "output_type": "stream",
     "text": [
      "Hasil predict iris model:  [2, 1, 0, 1, 1, 1, 2, 1, 2, 2, 2, 1, 0, 2, 1]\n",
      "Target:  [2, 1, 0, 2, 1, 1, 2, 1, 2, 2, 2, 1, 0, 2, 1]\n"
     ]
    }
   ],
   "source": [
    "#Predict best model\n",
    "hasil_predict_unprocessed = model_current.predictBatch(x_test)\n",
    "hasil_predict = convertEncoding(hasil_predict_unprocessed)\n",
    "target_predict = convertEncoding(target_test)\n",
    "print(\"Hasil predict iris model: \",hasil_predict)\n",
    "print(\"Target: \",target_predict)"
   ]
  },
  {
   "cell_type": "code",
   "execution_count": 37,
   "metadata": {},
   "outputs": [
    {
     "name": "stdout",
     "output_type": "stream",
     "text": [
      "Hasil confusion matrix implementasi\n",
      "Hasil predict iris model: \n",
      " [[2 0 0]\n",
      " [0 6 0]\n",
      " [0 1 6]]\n"
     ]
    }
   ],
   "source": [
    "#Confusion matrix\n",
    "\n",
    "print(\"Hasil confusion matrix implementasi\")\n",
    "print(\"Hasil predict iris model: \\n\",getConfusionMatrix(target_predict,hasil_predict))"
   ]
  },
  {
   "cell_type": "markdown",
   "metadata": {},
   "source": [
    "# Nomor 5"
   ]
  },
  {
   "cell_type": "markdown",
   "metadata": {},
   "source": [
    "# Nomor 6"
   ]
  },
  {
   "cell_type": "markdown",
   "metadata": {},
   "source": [
    "# Nomor 7"
   ]
  },
  {
   "cell_type": "markdown",
   "metadata": {},
   "source": [
    "# Nomor 8\n"
   ]
  }
 ],
 "metadata": {
  "interpreter": {
   "hash": "2be5faf79681da6f2a61fdfdd5405d65d042280f7fba6178067603e3a2925119"
  },
  "kernelspec": {
   "display_name": "Python 3.10.2 64-bit",
   "language": "python",
   "name": "python3"
  },
  "language_info": {
   "codemirror_mode": {
    "name": "ipython",
    "version": 3
   },
   "file_extension": ".py",
   "mimetype": "text/x-python",
   "name": "python",
   "nbconvert_exporter": "python",
   "pygments_lexer": "ipython3",
   "version": "3.10.2"
  },
  "orig_nbformat": 4
 },
 "nbformat": 4,
 "nbformat_minor": 2
}
