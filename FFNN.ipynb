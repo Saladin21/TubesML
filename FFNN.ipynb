{
 "cells": [
  {
   "cell_type": "markdown",
   "metadata": {},
   "source": []
  },
  {
   "cell_type": "markdown",
   "metadata": {},
   "source": [
    "#Implementasi Forward Propagation\n",
    "- Syihabuddin Yahya Muhammad (13519149)\n",
    "- Rolland Steven Supardi (13519173)\n",
    "- Muhammad Furqon (13519184)\n",
    "- Ahmad Saladin (13519187)"
   ]
  },
  {
   "cell_type": "code",
   "execution_count": 17,
   "metadata": {},
   "outputs": [
    {
     "name": "stdout",
     "output_type": "stream",
     "text": [
      "Hello World\n"
     ]
    }
   ],
   "source": [
    "#Create FFNN Class, membaca model dari le konfigurasi\n",
    "#Menampilkan model\n",
    "#Memprediksi output 1 instance\n",
    "#Memprediksi output 1 batch\n",
    "from FFNN import FFNN\n",
    "print(\"Hello World\")\n"
   ]
  },
  {
   "cell_type": "markdown",
   "metadata": {},
   "source": [
    "#XOR Sigmoid Model"
   ]
  },
  {
   "cell_type": "code",
   "execution_count": 18,
   "metadata": {},
   "outputs": [
    {
     "name": "stdout",
     "output_type": "stream",
     "text": [
      "Layer 1:\n",
      "Fungsi Aktivasi:  RELU\n",
      "Neuron 1: [0, 1, 1]\n",
      "Neuron 2: [-1, 1, 1]\n",
      "Layer 2:\n",
      "Fungsi Aktivasi:  linear\n",
      "Neuron 1: [0, 1, -2]\n"
     ]
    }
   ],
   "source": [
    "#Membaca Model\n",
    "ffnn = FFNN(\"XORRelu.txt\")\n",
    "ffnn.printModel()"
   ]
  },
  {
   "cell_type": "code",
   "execution_count": 19,
   "metadata": {},
   "outputs": [
    {
     "data": {
      "text/plain": [
       "[0]"
      ]
     },
     "execution_count": 19,
     "metadata": {},
     "output_type": "execute_result"
    }
   ],
   "source": [
    "#satu instance\n",
    "ffnn.predict([0,0])\n"
   ]
  },
  {
   "cell_type": "code",
   "execution_count": 20,
   "metadata": {},
   "outputs": [
    {
     "data": {
      "text/plain": [
       "[[0], [0], [1], [1]]"
      ]
     },
     "execution_count": 20,
     "metadata": {},
     "output_type": "execute_result"
    }
   ],
   "source": [
    "#batch\n",
    "ffnn.predictBatch([[0,0], [1,1], [1,0], [0,1]])"
   ]
  },
  {
   "cell_type": "markdown",
   "metadata": {},
   "source": [
    "#XOR RELU + Linear Model"
   ]
  },
  {
   "cell_type": "code",
   "execution_count": 21,
   "metadata": {},
   "outputs": [
    {
     "name": "stdout",
     "output_type": "stream",
     "text": [
      "Layer 1:\n",
      "Fungsi Aktivasi:  sigmoid\n",
      "Neuron 1: [-10, 20, 20]\n",
      "Neuron 2: [30, -20, -20]\n",
      "Layer 2:\n",
      "Fungsi Aktivasi:  sigmoid\n",
      "Neuron 1: [-30, 20, 20]\n"
     ]
    }
   ],
   "source": [
    "#Membaca Model\n",
    "ffnn = FFNN(\"XORSigmoid.txt\")\n",
    "ffnn.printModel()"
   ]
  },
  {
   "cell_type": "code",
   "execution_count": 22,
   "metadata": {},
   "outputs": [
    {
     "data": {
      "text/plain": [
       "[0]"
      ]
     },
     "execution_count": 22,
     "metadata": {},
     "output_type": "execute_result"
    }
   ],
   "source": [
    "#satu instance\n",
    "ffnn.predict([0,0])"
   ]
  },
  {
   "cell_type": "code",
   "execution_count": 23,
   "metadata": {},
   "outputs": [
    {
     "data": {
      "text/plain": [
       "[[0.0], [0.0], [1.0], [1.0]]"
      ]
     },
     "execution_count": 23,
     "metadata": {},
     "output_type": "execute_result"
    }
   ],
   "source": [
    "#batch\n",
    "ffnn.predictBatch([[0,0], [1,1], [1,0], [0,1]])"
   ]
  }
 ],
 "metadata": {
  "interpreter": {
   "hash": "2be5faf79681da6f2a61fdfdd5405d65d042280f7fba6178067603e3a2925119"
  },
  "kernelspec": {
   "display_name": "Python 3.10.2 64-bit",
   "language": "python",
   "name": "python3"
  },
  "language_info": {
   "codemirror_mode": {
    "name": "ipython",
    "version": 3
   },
   "file_extension": ".py",
   "mimetype": "text/x-python",
   "name": "python",
   "nbconvert_exporter": "python",
   "pygments_lexer": "ipython3",
   "version": "3.10.2"
  },
  "orig_nbformat": 4
 },
 "nbformat": 4,
 "nbformat_minor": 2
}
