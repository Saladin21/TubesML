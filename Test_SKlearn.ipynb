{
  "cells": [
    {
      "cell_type": "code",
      "execution_count": null,
      "metadata": {},
      "outputs": [],
      "source": [
        "#Neural Network iris dataset\n",
        "from sklearn.neural_network import MLPClassifier\n",
        "from sklearn import datasets\n",
        "iris = datasets.load_iris()\n",
        "X = iris.data\n",
        "y = iris.target\n",
        "#Proses target\n",
        "target = []\n",
        "for i in range(len(y)):\n",
        "    if (y[i] == 0):\n",
        "        target.append([1,0,0])\n",
        "    elif(y[i] == 1):\n",
        "        target.append([0,1,0])\n",
        "    else:\n",
        "        target.append([0,0,1])\n",
        "#Set classifier\n",
        "clf = MLPClassifier(solver='adam', alpha=1e-5,hidden_layer_sizes=(5, ), random_state=1, max_iter=1000, batch_size= 10, learning_rate_init=0.1)\n",
        "#Keterangan Parameter :\n",
        "#solver \"adam\" untuk gradient descent\n",
        "#hidden layer sizes sebesar 5\n",
        "#max_iter, iterasi maksimum 1000\n",
        "#batch_size, besar batch 10\n",
        "#learning_rate_init, learning rate \n",
        "\n",
        "# clf.fit(X, y)\n",
        "clf.fit(X, target)\n",
        "\n",
        "# clf.predict([[5.4, 3.9, 1.7, 0.4],[6.5, 3. , 5.2, 2. ]])\n",
        "clf.predict([[5.1, 3.5, 1.4, 0.2],[7. , 3.2, 4.7, 1.4],[5.9, 3.0, 5.1, 1.8]])"
      ]
    },
    {
      "cell_type": "code",
      "execution_count": 17,
      "metadata": {},
      "outputs": [
        {
          "name": "stdout",
          "output_type": "stream",
          "text": [
            "3\n",
            "[array([[-0.48633101,  0.25579312, -0.57513195, -1.0769173 ,  0.62608185],\n",
            "       [-0.80395698, -1.27044707, -0.39478528, -1.80673146,  1.49188486],\n",
            "       [-0.48565423,  0.78773958, -0.40175974,  2.34967092, -1.72976904],\n",
            "       [-0.4855797 , -0.29073058, -0.53068161,  3.68203983, -2.95511114]]), array([[-1.36470756e-01,  1.17012690e-01,  6.81239892e-02],\n",
            "       [-2.81870718e+00,  4.70889730e-01,  2.82709603e-01],\n",
            "       [-2.73612607e-03, -4.47926311e-01,  4.88028682e-01],\n",
            "       [-1.14503061e+00, -2.88566236e+00,  2.27935417e+00],\n",
            "       [ 1.77858740e+00, -1.36371861e+00, -2.97092440e+00]])]\n",
            "[array([-0.0215119 ,  1.84597646, -0.82342796, -3.40009317,  2.26177528]), array([ 0.71480805,  2.16283362, -4.14413723])]\n",
            "41\n"
          ]
        }
      ],
      "source": [
        "print(clf.n_layers_)\n",
        "print(clf.coefs_)\n",
        "print(clf.intercepts_)\n",
        "print(clf.n_iter_)"
      ]
    }
  ],
  "metadata": {
    "colab": {
      "name": "Test_SKlearn.ipynb",
      "provenance": []
    },
    "kernelspec": {
      "display_name": "Python 3",
      "name": "python3"
    },
    "language_info": {
      "codemirror_mode": {
        "name": "ipython",
        "version": 3
      },
      "file_extension": ".py",
      "mimetype": "text/x-python",
      "name": "python",
      "nbconvert_exporter": "python",
      "pygments_lexer": "ipython3",
      "version": "3.10.2"
    }
  },
  "nbformat": 4,
  "nbformat_minor": 0
}
