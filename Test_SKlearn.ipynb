{
  "cells": [
    {
      "cell_type": "code",
      "execution_count": 10,
      "metadata": {},
      "outputs": [
        {
          "data": {
            "text/plain": [
              "array([[1, 0, 0],\n",
              "       [0, 1, 0],\n",
              "       [0, 0, 1]])"
            ]
          },
          "execution_count": 10,
          "metadata": {},
          "output_type": "execute_result"
        }
      ],
      "source": [
        "#Neural Network iris dataset\n",
        "from sklearn.neural_network import MLPClassifier\n",
        "from sklearn import datasets\n",
        "iris = datasets.load_iris()\n",
        "X = iris.data\n",
        "y = iris.target\n",
        "#Proses target\n",
        "target = []\n",
        "for i in range(len(y)):\n",
        "    if (y[i] == 0):\n",
        "        target.append([1,0,0])\n",
        "    elif(y[i] == 1):\n",
        "        target.append([0,1,0])\n",
        "    else:\n",
        "        target.append([0,0,1])\n",
        "#Set classifier\n",
        "clf = MLPClassifier(solver='adam', alpha=1e-5,hidden_layer_sizes=(5, ), random_state=1, max_iter=1000, batch_size= 10, learning_rate_init=0.1)\n",
        "#Keterangan Parameter :\n",
        "#solver \"adam\" untuk gradient descent\n",
        "#hidden layer sizes sebesar 5\n",
        "#max_iter, iterasi maksimum 1000\n",
        "#batch_size, besar batch 10\n",
        "#learning_rate_init, learning rate \n",
        "\n",
        "# clf.fit(X, y)\n",
        "clf.fit(X, target)\n",
        "\n",
        "# clf.predict([[5.4, 3.9, 1.7, 0.4],[6.5, 3. , 5.2, 2. ]])\n",
        "clf.predict([[5.1, 3.5, 1.4, 0.2],[7. , 3.2, 4.7, 1.4],[5.9, 3.0, 5.1, 1.8]])"
      ]
    }
  ],
  "metadata": {
    "colab": {
      "name": "Test_SKlearn.ipynb",
      "provenance": []
    },
    "kernelspec": {
      "display_name": "Python 3",
      "name": "python3"
    },
    "language_info": {
      "codemirror_mode": {
        "name": "ipython",
        "version": 3
      },
      "file_extension": ".py",
      "mimetype": "text/x-python",
      "name": "python",
      "nbconvert_exporter": "python",
      "pygments_lexer": "ipython3",
      "version": "3.10.2"
    }
  },
  "nbformat": 4,
  "nbformat_minor": 0
}
