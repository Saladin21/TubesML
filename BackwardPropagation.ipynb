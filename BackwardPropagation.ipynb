{
 "cells": [
  {
   "cell_type": "markdown",
   "metadata": {},
   "source": [
    "#Implementasi Backward Propagation\n",
    "- Syihabuddin Yahya Muhammad (13519149)\n",
    "- Rolland Steven Supardi (13519173)\n",
    "- Muhammad Furqon (13519184)\n",
    "- Ahmad Saladin (13519187)"
   ]
  },
  {
   "cell_type": "code",
   "execution_count": 10,
   "metadata": {},
   "outputs": [
    {
     "name": "stdout",
     "output_type": "stream",
     "text": [
      "Layer 1:\n",
      "Fungsi Aktivasi:  linear\n",
      "Neuron 1: [0.1, 0.1, 0.1, 0.1, 0.1]\n",
      "Neuron 2: [0.1, 0.1, 0.1, 0.1, 0.1]\n",
      "Layer 2:\n",
      "Fungsi Aktivasi:  sigmoid\n",
      "Neuron 1: [1.0, 1.0, 1.0]\n",
      "Neuron 2: [1.0, 1.0, 1.0]\n",
      "Neuron 3: [1.0, 1.0, 1.0]\n",
      "Layer 1:\n",
      "Fungsi Aktivasi:  linear\n",
      "Neuron 1: [-1.1490208264132007, -1.1490208264132007, -1.5516810442191082, -1.3433386771802673, -1.4625442337845027]\n",
      "Neuron 2: [1.5686646217955376, 1.5686646217955376, 1.2634527535171587, 2.111797749353443, 1.8785912808050214]\n",
      "Layer 2:\n",
      "Fungsi Aktivasi:  sigmoid\n",
      "Neuron 1: [0.9369395828864739, 0.04213444058369574, -1.019983129165799]\n",
      "Neuron 2: [1.2255735968472246, 1.324813420100531, -0.4919304567022629]\n",
      "Neuron 3: [0.5031609298433183, 0.3800875705304585, 2.680312653496591]\n",
      "iter:  1000\n",
      "error:  31.408470000000015\n"
     ]
    }
   ],
   "source": [
    "#Create FFNN Class, membaca model dari le konfigurasi\n",
    "#Menampilkan model\n",
    "#Memprediksi output 1 instance\n",
    "#Memprediksi output 1 batch\n",
    "from FFNN import FFNN\n",
    "from sklearn import datasets\n",
    "iris = datasets.load_iris()\n",
    "x = iris.data.tolist()  # we only take the first two features.\n",
    "y = iris.target\n",
    "\n",
    "target = []\n",
    "for i in range(len(y)):\n",
    "    if (y[i] == 0):\n",
    "        target.append([1,0,0])\n",
    "    elif(y[i] == 1):\n",
    "        target.append([0,1,0])\n",
    "    else:\n",
    "        target.append([0,0,1])\n",
    "\n",
    "ffnn = FFNN(\"IrisModel.txt\")\n",
    "ffnn.printModel()\n",
    "ffnn.setBackwardParameter(target, 0.1)\n",
    "ffnn.backward(10, 1, 1000, x)\n",
    "# print(x)\n",
    "\n"
   ]
  },
  {
   "cell_type": "markdown",
   "metadata": {},
   "source": [
    "#XOR Sigmoid Model"
   ]
  },
  {
   "cell_type": "code",
   "execution_count": null,
   "metadata": {},
   "outputs": [],
   "source": []
  }
 ],
 "metadata": {
  "interpreter": {
   "hash": "2be5faf79681da6f2a61fdfdd5405d65d042280f7fba6178067603e3a2925119"
  },
  "kernelspec": {
   "display_name": "Python 3.10.2 64-bit",
   "language": "python",
   "name": "python3"
  },
  "language_info": {
   "codemirror_mode": {
    "name": "ipython",
    "version": 3
   },
   "file_extension": ".py",
   "mimetype": "text/x-python",
   "name": "python",
   "nbconvert_exporter": "python",
   "pygments_lexer": "ipython3",
   "version": "3.10.2"
  },
  "orig_nbformat": 4
 },
 "nbformat": 4,
 "nbformat_minor": 2
}
