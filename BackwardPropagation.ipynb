{
 "cells": [
  {
   "cell_type": "markdown",
   "metadata": {},
   "source": [
    "#Implementasi Backward Propagation\n",
    "- Syihabuddin Yahya Muhammad (13519149)\n",
    "- Rolland Steven Supardi (13519173)\n",
    "- Muhammad Furqon (13519184)\n",
    "- Ahmad Saladin (13519187)"
   ]
  },
  {
   "cell_type": "code",
   "execution_count": 2,
   "metadata": {},
   "outputs": [
    {
     "name": "stdout",
     "output_type": "stream",
     "text": [
      "Layer 1:\n",
      "Fungsi Aktivasi:  linear\n",
      "Layer 2:\n",
      "Fungsi Aktivasi:  sigmoid\n",
      "Neuron 1: [0.0, 0.0, 0.0]\n",
      "Neuron 2: [0.0, 0.0, 0.0]\n",
      "Neuron 3: [0.0, 0.0, 0.0]\n",
      "Layer 3:\n",
      "Fungsi Aktivasi:  sigmoid\n",
      "Neuron 1: [1.5918611183916074, 1.5918611183916074, 1.5918611183916074]\n",
      "Neuron 2: [-0.8110493140268713, -0.8110493140268713, -0.8110493140268713]\n",
      "iter:  1000\n",
      "error:  100.0\n"
     ]
    }
   ],
   "source": [
    "#Create FFNN Class, membaca model dari le konfigurasi\n",
    "#Menampilkan model\n",
    "#Memprediksi output 1 instance\n",
    "#Memprediksi output 1 batch\n",
    "from FFNN import FFNN\n",
    "from sklearn import datasets\n",
    "iris = datasets.load_iris()\n",
    "x = iris.data.tolist()  # we only take the first two features.\n",
    "y = iris.target\n",
    "\n",
    "target = []\n",
    "for i in range(len(y)):\n",
    "    if (y[i] == 0):\n",
    "        target.append([0,0])\n",
    "    elif(y[i] == 1):\n",
    "        target.append([0,1])\n",
    "    else:\n",
    "        target.append([1,0])\n",
    "\n",
    "ffnn = FFNN(\"IrisModel.txt\")\n",
    "ffnn.setBackwardParameter(target, 0.5)\n",
    "ffnn.backward(50, 1, 1000, x)\n",
    "# print(x)\n",
    "\n"
   ]
  },
  {
   "cell_type": "markdown",
   "metadata": {},
   "source": [
    "#XOR Sigmoid Model"
   ]
  },
  {
   "cell_type": "code",
   "execution_count": null,
   "metadata": {},
   "outputs": [],
   "source": []
  }
 ],
 "metadata": {
  "interpreter": {
   "hash": "2be5faf79681da6f2a61fdfdd5405d65d042280f7fba6178067603e3a2925119"
  },
  "kernelspec": {
   "display_name": "Python 3.10.2 64-bit",
   "language": "python",
   "name": "python3"
  },
  "language_info": {
   "codemirror_mode": {
    "name": "ipython",
    "version": 3
   },
   "file_extension": ".py",
   "mimetype": "text/x-python",
   "name": "python",
   "nbconvert_exporter": "python",
   "pygments_lexer": "ipython3",
   "version": "3.10.2"
  },
  "orig_nbformat": 4
 },
 "nbformat": 4,
 "nbformat_minor": 2
}
