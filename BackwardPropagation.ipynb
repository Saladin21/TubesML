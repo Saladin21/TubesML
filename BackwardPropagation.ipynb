{
 "cells": [
  {
   "cell_type": "markdown",
   "metadata": {},
   "source": [
    "#Implementasi Backward Propagation\n",
    "- Syihabuddin Yahya Muhammad (13519149)\n",
    "- Rolland Steven Supardi (13519173)\n",
    "- Muhammad Furqon (13519184)\n",
    "- Ahmad Saladin (13519187)"
   ]
  },
  {
   "cell_type": "code",
   "execution_count": 1,
   "metadata": {},
   "outputs": [
    {
     "ename": "IndexError",
     "evalue": "list index out of range",
     "output_type": "error",
     "traceback": [
      "\u001b[1;31m---------------------------------------------------------------------------\u001b[0m",
      "\u001b[1;31mIndexError\u001b[0m                                Traceback (most recent call last)",
      "\u001b[1;32md:\\OneDrive - Institut Teknologi Bandung\\Kuliah\\Semester-6\\ML\\TubesML\\BackwardPropagation.ipynb Cell 2'\u001b[0m in \u001b[0;36m<module>\u001b[1;34m\u001b[0m\n\u001b[0;32m     <a href='vscode-notebook-cell:/d%3A/OneDrive%20-%20Institut%20Teknologi%20Bandung/Kuliah/Semester-6/ML/TubesML/BackwardPropagation.ipynb#ch0000001?line=19'>20</a>\u001b[0m ffnn \u001b[39m=\u001b[39m FFNN(\u001b[39m\"\u001b[39m\u001b[39mIrisModel.txt\u001b[39m\u001b[39m\"\u001b[39m)\n\u001b[0;32m     <a href='vscode-notebook-cell:/d%3A/OneDrive%20-%20Institut%20Teknologi%20Bandung/Kuliah/Semester-6/ML/TubesML/BackwardPropagation.ipynb#ch0000001?line=20'>21</a>\u001b[0m ffnn\u001b[39m.\u001b[39msetBackwardParameter(target, \u001b[39m0.5\u001b[39m)\n\u001b[1;32m---> <a href='vscode-notebook-cell:/d%3A/OneDrive%20-%20Institut%20Teknologi%20Bandung/Kuliah/Semester-6/ML/TubesML/BackwardPropagation.ipynb#ch0000001?line=21'>22</a>\u001b[0m ffnn\u001b[39m.\u001b[39;49mbackward(\u001b[39m1\u001b[39;49m, \u001b[39m1\u001b[39;49m, \u001b[39m1000\u001b[39;49m, x)\n",
      "File \u001b[1;32md:\\OneDrive - Institut Teknologi Bandung\\Kuliah\\Semester-6\\ML\\TubesML\\FFNN.py:109\u001b[0m, in \u001b[0;36mFFNN.backward\u001b[1;34m(self, batch_size, error_threshold, max_iteration, input)\u001b[0m\n\u001b[0;32m    <a href='file:///d%3A/OneDrive%20-%20Institut%20Teknologi%20Bandung/Kuliah/Semester-6/ML/TubesML/FFNN.py?line=106'>107</a>\u001b[0m     layer_input\u001b[39m.\u001b[39moutput \u001b[39m=\u001b[39m entri\n\u001b[0;32m    <a href='file:///d%3A/OneDrive%20-%20Institut%20Teknologi%20Bandung/Kuliah/Semester-6/ML/TubesML/FFNN.py?line=107'>108</a>\u001b[0m     epoch_result\u001b[39m.\u001b[39mappend(\u001b[39mself\u001b[39m\u001b[39m.\u001b[39mpredict(entri))\n\u001b[1;32m--> <a href='file:///d%3A/OneDrive%20-%20Institut%20Teknologi%20Bandung/Kuliah/Semester-6/ML/TubesML/FFNN.py?line=108'>109</a>\u001b[0m     \u001b[39mself\u001b[39;49m\u001b[39m.\u001b[39;49mcomputeError(entry_index)\n\u001b[0;32m    <a href='file:///d%3A/OneDrive%20-%20Institut%20Teknologi%20Bandung/Kuliah/Semester-6/ML/TubesML/FFNN.py?line=109'>110</a>\u001b[0m     entry_index \u001b[39m+\u001b[39m\u001b[39m=\u001b[39m \u001b[39m1\u001b[39m\n\u001b[0;32m    <a href='file:///d%3A/OneDrive%20-%20Institut%20Teknologi%20Bandung/Kuliah/Semester-6/ML/TubesML/FFNN.py?line=110'>111</a>\u001b[0m \u001b[39mself\u001b[39m\u001b[39m.\u001b[39madjustWeight()\n",
      "File \u001b[1;32md:\\OneDrive - Institut Teknologi Bandung\\Kuliah\\Semester-6\\ML\\TubesML\\FFNN.py:90\u001b[0m, in \u001b[0;36mFFNN.computeError\u001b[1;34m(self, entryIndex)\u001b[0m\n\u001b[0;32m     <a href='file:///d%3A/OneDrive%20-%20Institut%20Teknologi%20Bandung/Kuliah/Semester-6/ML/TubesML/FFNN.py?line=87'>88</a>\u001b[0m     \u001b[39mself\u001b[39m\u001b[39m.\u001b[39mlayer_list[i]\u001b[39m.\u001b[39mcomputeDeltaBobot(\u001b[39mself\u001b[39m\u001b[39m.\u001b[39mlayer_list[i\u001b[39m-\u001b[39m\u001b[39m1\u001b[39m], target \u001b[39m=\u001b[39m \u001b[39mself\u001b[39m\u001b[39m.\u001b[39mexpected_output[entryIndex])\n\u001b[0;32m     <a href='file:///d%3A/OneDrive%20-%20Institut%20Teknologi%20Bandung/Kuliah/Semester-6/ML/TubesML/FFNN.py?line=88'>89</a>\u001b[0m \u001b[39melse\u001b[39;00m:\n\u001b[1;32m---> <a href='file:///d%3A/OneDrive%20-%20Institut%20Teknologi%20Bandung/Kuliah/Semester-6/ML/TubesML/FFNN.py?line=89'>90</a>\u001b[0m     \u001b[39mself\u001b[39;49m\u001b[39m.\u001b[39;49mlayer_list[i]\u001b[39m.\u001b[39;49mcomputeDeltaBobot(\u001b[39mself\u001b[39;49m\u001b[39m.\u001b[39;49mlayer_list[i\u001b[39m-\u001b[39;49m\u001b[39m1\u001b[39;49m], nextLayer \u001b[39m=\u001b[39;49m \u001b[39mself\u001b[39;49m\u001b[39m.\u001b[39;49mlayer_list[i\u001b[39m+\u001b[39;49m\u001b[39m1\u001b[39;49m])\n",
      "File \u001b[1;32md:\\OneDrive - Institut Teknologi Bandung\\Kuliah\\Semester-6\\ML\\TubesML\\Layer.py:93\u001b[0m, in \u001b[0;36mLayer.computeDeltaBobot\u001b[1;34m(self, prevLayer, nextLayer, target)\u001b[0m\n\u001b[0;32m     <a href='file:///d%3A/OneDrive%20-%20Institut%20Teknologi%20Bandung/Kuliah/Semester-6/ML/TubesML/Layer.py?line=90'>91</a>\u001b[0m \u001b[39mfor\u001b[39;00m j \u001b[39min\u001b[39;00m \u001b[39mrange\u001b[39m(\u001b[39mlen\u001b[39m(Weights)):\n\u001b[0;32m     <a href='file:///d%3A/OneDrive%20-%20Institut%20Teknologi%20Bandung/Kuliah/Semester-6/ML/TubesML/Layer.py?line=91'>92</a>\u001b[0m     nextWeight\u001b[39m.\u001b[39mappend(Weights[j][i])\n\u001b[1;32m---> <a href='file:///d%3A/OneDrive%20-%20Institut%20Teknologi%20Bandung/Kuliah/Semester-6/ML/TubesML/Layer.py?line=92'>93</a>\u001b[0m \u001b[39mself\u001b[39;49m\u001b[39m.\u001b[39;49mneurons[i]\u001b[39m.\u001b[39;49mcalculateHiddenError(\u001b[39mself\u001b[39;49m\u001b[39m.\u001b[39;49moutput[i], \u001b[39mself\u001b[39;49m\u001b[39m.\u001b[39;49maktivasi, prevLayer\u001b[39m.\u001b[39;49mgetOutput(), nextWeight, nextLayer\u001b[39m.\u001b[39;49mgetError())\n",
      "File \u001b[1;32md:\\OneDrive - Institut Teknologi Bandung\\Kuliah\\Semester-6\\ML\\TubesML\\Neuron.py:75\u001b[0m, in \u001b[0;36mNeuron.calculateHiddenError\u001b[1;34m(self, output, activation, prevOutput, nextWeight, nextError)\u001b[0m\n\u001b[0;32m     <a href='file:///d%3A/OneDrive%20-%20Institut%20Teknologi%20Bandung/Kuliah/Semester-6/ML/TubesML/Neuron.py?line=71'>72</a>\u001b[0m     \u001b[39mself\u001b[39m\u001b[39m.\u001b[39merrorFactor \u001b[39m=\u001b[39m errorOutput\u001b[39m*\u001b[39m derived\u001b[39m.\u001b[39mderived_linear(output)\n\u001b[0;32m     <a href='file:///d%3A/OneDrive%20-%20Institut%20Teknologi%20Bandung/Kuliah/Semester-6/ML/TubesML/Neuron.py?line=73'>74</a>\u001b[0m \u001b[39mfor\u001b[39;00m i \u001b[39min\u001b[39;00m \u001b[39mrange\u001b[39m (\u001b[39mlen\u001b[39m(\u001b[39mself\u001b[39m\u001b[39m.\u001b[39mbobot)):\n\u001b[1;32m---> <a href='file:///d%3A/OneDrive%20-%20Institut%20Teknologi%20Bandung/Kuliah/Semester-6/ML/TubesML/Neuron.py?line=74'>75</a>\u001b[0m     \u001b[39mself\u001b[39m\u001b[39m.\u001b[39mdeltaWeight[i] \u001b[39m+\u001b[39m\u001b[39m=\u001b[39m \u001b[39mself\u001b[39m\u001b[39m.\u001b[39merrorFactor \u001b[39m*\u001b[39m prevOutput[i]\n",
      "\u001b[1;31mIndexError\u001b[0m: list index out of range"
     ]
    }
   ],
   "source": [
    "#Create FFNN Class, membaca model dari le konfigurasi\n",
    "#Menampilkan model\n",
    "#Memprediksi output 1 instance\n",
    "#Memprediksi output 1 batch\n",
    "from FFNN import FFNN\n",
    "from sklearn import datasets\n",
    "iris = datasets.load_iris()\n",
    "x = iris.data.tolist()  # we only take the first two features.\n",
    "y = iris.target\n",
    "\n",
    "target = []\n",
    "for i in range(len(y)):\n",
    "    if (y[i] == 0):\n",
    "        target.append([0,0])\n",
    "    elif(y[i] == 1):\n",
    "        target.append([0,1])\n",
    "    else:\n",
    "        target.append([1,0])\n",
    "\n",
    "ffnn = FFNN(\"IrisModel.txt\")\n",
    "ffnn.setBackwardParameter(target, 0.5)\n",
    "ffnn.backward(1, 1, 1000, x)\n",
    "# print(x)\n",
    "\n"
   ]
  },
  {
   "cell_type": "markdown",
   "metadata": {},
   "source": [
    "#XOR Sigmoid Model"
   ]
  },
  {
   "cell_type": "code",
   "execution_count": null,
   "metadata": {},
   "outputs": [],
   "source": []
  }
 ],
 "metadata": {
  "interpreter": {
   "hash": "2be5faf79681da6f2a61fdfdd5405d65d042280f7fba6178067603e3a2925119"
  },
  "kernelspec": {
   "display_name": "Python 3.10.2 64-bit",
   "language": "python",
   "name": "python3"
  },
  "language_info": {
   "codemirror_mode": {
    "name": "ipython",
    "version": 3
   },
   "file_extension": ".py",
   "mimetype": "text/x-python",
   "name": "python",
   "nbconvert_exporter": "python",
   "pygments_lexer": "ipython3",
   "version": "3.10.2"
  },
  "orig_nbformat": 4
 },
 "nbformat": 4,
 "nbformat_minor": 2
}
