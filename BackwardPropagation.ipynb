{
 "cells": [
  {
   "cell_type": "markdown",
   "metadata": {},
   "source": [
    "#Implementasi Backward Propagation\n",
    "- Syihabuddin Yahya Muhammad (13519149)\n",
    "- Rolland Steven Supardi (13519173)\n",
    "- Muhammad Furqon (13519184)\n",
    "- Ahmad Saladin (13519187)"
   ]
  },
  {
   "cell_type": "code",
   "execution_count": 1,
   "metadata": {},
   "outputs": [
    {
     "name": "stderr",
     "output_type": "stream",
     "text": [
      "d:\\OneDrive - Institut Teknologi Bandung\\Kuliah\\Semester-6\\ML\\TubesML\\activation_function.py:19: RuntimeWarning: overflow encountered in exp\n",
      "  return 1/(1+np.exp(-x))\n"
     ]
    },
    {
     "name": "stdout",
     "output_type": "stream",
     "text": [
      "Layer 1:\n",
      "Fungsi Aktivasi:  sigmoid\n",
      "Neuron 1: [59000.408323751144, 59000.408323751144, 58994.22296999464, 59003.48935301853, 59020.83376592896]\n",
      "Neuron 2: [41383.71027739038, 41383.71027739038, 41373.84467377574, 41368.35874842914, 41367.99156092412]\n",
      "Layer 2:\n",
      "Fungsi Aktivasi:  sigmoid\n",
      "Neuron 1: [-256.0271805056405, -190.88951275937526, -402.2583795673748]\n",
      "Neuron 2: [-19.600143355178748, 17.077521045885838, 566.8451836612144]\n",
      "Neuron 3: [-293.3313232169513, -282.17961611849114, 5.329805964115904]\n",
      "Layer 3:\n",
      "Fungsi Aktivasi:  sigmoid\n",
      "Neuron 1: [2.8527739755086303, -6.705198974215667, -0.9506253409833918, 1.7541301268052474]\n",
      "Neuron 2: [-6.57382111360712, -0.5919216858043788, 4.449735813132514, 0.5552592483446053]\n",
      "iter:  1000\n",
      "error:  21.257014\n"
     ]
    }
   ],
   "source": [
    "#Create FFNN Class, membaca model dari le konfigurasi\n",
    "#Menampilkan model\n",
    "#Memprediksi output 1 instance\n",
    "#Memprediksi output 1 batch\n",
    "from FFNN import FFNN\n",
    "from sklearn import datasets\n",
    "iris = datasets.load_iris()\n",
    "x = iris.data.tolist()  # we only take the first two features.\n",
    "y = iris.target\n",
    "\n",
    "target = []\n",
    "for i in range(len(y)):\n",
    "    if (y[i] == 0):\n",
    "        target.append([0,0])\n",
    "    elif(y[i] == 1):\n",
    "        target.append([0,1])\n",
    "    else:\n",
    "        target.append([1,0])\n",
    "\n",
    "ffnn = FFNN(\"IrisModel.txt\")\n",
    "ffnn.setBackwardParameter(target, 0.5)\n",
    "ffnn.backward(1, 1, 1000, x)\n",
    "# print(x)\n",
    "\n"
   ]
  },
  {
   "cell_type": "markdown",
   "metadata": {},
   "source": [
    "#XOR Sigmoid Model"
   ]
  },
  {
   "cell_type": "code",
   "execution_count": null,
   "metadata": {},
   "outputs": [],
   "source": []
  }
 ],
 "metadata": {
  "interpreter": {
   "hash": "2be5faf79681da6f2a61fdfdd5405d65d042280f7fba6178067603e3a2925119"
  },
  "kernelspec": {
   "display_name": "Python 3.10.2 64-bit",
   "language": "python",
   "name": "python3"
  },
  "language_info": {
   "codemirror_mode": {
    "name": "ipython",
    "version": 3
   },
   "file_extension": ".py",
   "mimetype": "text/x-python",
   "name": "python",
   "nbconvert_exporter": "python",
   "pygments_lexer": "ipython3",
   "version": "3.10.2"
  },
  "orig_nbformat": 4
 },
 "nbformat": 4,
 "nbformat_minor": 2
}
