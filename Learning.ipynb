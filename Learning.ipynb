{
 "cells": [
  {
   "cell_type": "code",
   "execution_count": 9,
   "metadata": {},
   "outputs": [],
   "source": [
    "from FFNN import FFNN\n",
    "from sklearn import datasets\n",
    "from sklearn.neural_network import MLPClassifier\n",
    "import random\n",
    "import numpy as np\n",
    "iris = datasets.load_iris()\n",
    "x = iris.data.tolist()  # we only take the first two features.\n",
    "\n",
    "y = iris.target\n",
    "\n",
    "target = []\n",
    "for i in range(len(y)):\n",
    "    if (y[i] == 0):\n",
    "        target.append([1,0,0])\n",
    "    elif(y[i] == 1):\n",
    "        target.append([0,1,0])\n",
    "    else:\n",
    "        target.append([0,0,1])\n",
    "\n",
    "\n",
    "data = []\n",
    "for i in range(len(x)):\n",
    "    data.append((x[i],target[i]))\n",
    "\n",
    "trainingLen = (len(data) * 9) // 10\n",
    "testLen = len(data) - trainingLen\n",
    "\n",
    "random.seed(0)\n",
    "random.shuffle(data)\n",
    "x = []\n",
    "target = []\n",
    "x_test = []\n",
    "target_test = []\n",
    "for d in range (len(data)):\n",
    "    if (d < trainingLen):\n",
    "        x.append(data[d][0])\n",
    "        target.append(data[d][1])\n",
    "    else:\n",
    "        x_test.append(data[d][0])\n",
    "        target_test.append(data[d][1])"
   ]
  },
  {
   "cell_type": "code",
   "execution_count": 10,
   "metadata": {},
   "outputs": [
    {
     "name": "stdout",
     "output_type": "stream",
     "text": [
      "Layer 1:\n",
      "Fungsi Aktivasi:  linear\n",
      "Neuron 1: [0.1, 0.1, 0.1, 0.1, 0.1]\n",
      "Neuron 2: [0.1, 0.1, 0.1, 0.1, 0.1]\n",
      "Layer 2:\n",
      "Fungsi Aktivasi:  linear\n",
      "Neuron 1: [1.0, 1.0, 1.0]\n",
      "Neuron 2: [1.0, 1.0, 1.0]\n",
      "Neuron 3: [1.0, 1.0, 1.0]\n",
      "Layer 3:\n",
      "Fungsi Aktivasi:  softmax\n",
      "Neuron 1: [1.0, 1.0, 1.0, 0.5]\n",
      "Neuron 2: [1.0, 0.5, 0.5, 0.5]\n",
      "Neuron 3: [1.0, 0.5, 0.5, 1.0]\n",
      "Layer 1:\n",
      "Fungsi Aktivasi:  linear\n",
      "Neuron 1: [0.5257120832629552, 1.2361772108341045, 0.9625620025604665, -0.9472367533864436, -1.209726023999975]\n",
      "Neuron 2: [0.46970020941141294, 0.8718934638075373, 0.768886726775412, -1.0316665816713222, -1.1917885167181452]\n",
      "Layer 2:\n",
      "Fungsi Aktivasi:  linear\n",
      "Neuron 1: [2.4616323804598075, 1.6777922036609725, 0.6176249145472962]\n",
      "Neuron 2: [1.212881510915601, 2.1895384380213705, -0.19079671608845014]\n",
      "Neuron 3: [-1.0706638945059965, -3.091381285263246, 1.5639771660118813]\n",
      "Layer 3:\n",
      "Fungsi Aktivasi:  softmax\n",
      "Neuron 1: [-13.947642028865502, 20.10555550068345, 15.108782873057232, 29.86983792688108]\n",
      "Neuron 2: [15.509339313215024, 10.061765266851907, -5.612720718689057, 3.114035278567247]\n",
      "Neuron 3: [1.4383027156518478, -28.167320767534093, -7.496062154367859, -30.983873205449544]\n",
      "iter:  1000\n",
      "error:  125.92819705903479\n"
     ]
    }
   ],
   "source": [
    "ffnn = FFNN(\"IrisModel4.txt\")\n",
    "ffnn.printModel()\n",
    "ffnn.setBackwardParameter(target, 0.1)\n",
    "ffnn.backward(1, 0.1, 1000, x)\n",
    "# print(x)"
   ]
  },
  {
   "cell_type": "code",
   "execution_count": 13,
   "metadata": {},
   "outputs": [
    {
     "name": "stdout",
     "output_type": "stream",
     "text": [
      "Layer 1:\n",
      "Fungsi Aktivasi:  linear\n",
      "Neuron 1: [0.5257120832629552, 1.2361772108341045, 0.9625620025604665, -0.9472367533864436, -1.209726023999975]\n",
      "Neuron 2: [0.46970020941141294, 0.8718934638075373, 0.768886726775412, -1.0316665816713222, -1.1917885167181452]\n",
      "Layer 2:\n",
      "Fungsi Aktivasi:  linear\n",
      "Neuron 1: [2.4616323804598075, 1.6777922036609725, 0.6176249145472962]\n",
      "Neuron 2: [1.212881510915601, 2.1895384380213705, -0.19079671608845014]\n",
      "Neuron 3: [-1.0706638945059965, -3.091381285263246, 1.5639771660118813]\n",
      "Layer 3:\n",
      "Fungsi Aktivasi:  softmax\n",
      "Neuron 1: [-13.947642028865502, 20.10555550068345, 15.108782873057232, 29.86983792688108]\n",
      "Neuron 2: [15.509339313215024, 10.061765266851907, -5.612720718689057, 3.114035278567247]\n",
      "Neuron 3: [1.4383027156518478, -28.167320767534093, -7.496062154367859, -30.983873205449544]\n",
      "IrisModel:  [0.0, 0.0, 1.0] target:  [0, 0, 1]\n",
      "IrisModel:  [0.0, 0.0, 1.0] target:  [0, 1, 0]\n",
      "IrisModel:  [1.0, 0.0, 0.0] target:  [1, 0, 0]\n",
      "IrisModel:  [0.0, 0.0, 1.0] target:  [0, 0, 1]\n",
      "IrisModel:  [0.0, 1.0, 0.0] target:  [0, 1, 0]\n",
      "IrisModel:  [0.0, 1.0, 0.0] target:  [0, 1, 0]\n",
      "IrisModel:  [0.0, 0.0, 1.0] target:  [0, 0, 1]\n",
      "IrisModel:  [0.0, 1.0, 0.0] target:  [0, 1, 0]\n",
      "IrisModel:  [0.0, 0.0, 1.0] target:  [0, 0, 1]\n",
      "IrisModel:  [0.0, 0.0, 1.0] target:  [0, 0, 1]\n",
      "IrisModel:  [0.0, 0.0, 1.0] target:  [0, 0, 1]\n",
      "IrisModel:  [0.0, 1.0, 0.0] target:  [0, 1, 0]\n",
      "IrisModel:  [1.0, 0.0, 0.0] target:  [1, 0, 0]\n",
      "IrisModel:  [0.0, 0.0, 1.0] target:  [0, 0, 1]\n",
      "IrisModel:  [0.0, 1.0, 0.0] target:  [0, 1, 0]\n",
      "IrisModel Correct count: 14/15\n"
     ]
    }
   ],
   "source": [
    "ffnn.printModel()\n",
    "count = 0\n",
    "for i in range(len(x_test)):\n",
    "    pred = np.round(np.array(ffnn.predict(x_test[i]))).tolist()\n",
    "    print(\"IrisModel: \", pred, \"target: \", target_test[i])\n",
    "    if (pred == target_test[i]):\n",
    "        count+=1\n",
    "print(f\"IrisModel Correct count: {count}/{len(x_test)}\")"
   ]
  }
 ],
 "metadata": {
  "interpreter": {
   "hash": "2be5faf79681da6f2a61fdfdd5405d65d042280f7fba6178067603e3a2925119"
  },
  "kernelspec": {
   "display_name": "Python 3.10.2 64-bit",
   "language": "python",
   "name": "python3"
  },
  "language_info": {
   "codemirror_mode": {
    "name": "ipython",
    "version": 3
   },
   "file_extension": ".py",
   "mimetype": "text/x-python",
   "name": "python",
   "nbconvert_exporter": "python",
   "pygments_lexer": "ipython3",
   "version": "3.10.2"
  },
  "orig_nbformat": 4
 },
 "nbformat": 4,
 "nbformat_minor": 2
}
