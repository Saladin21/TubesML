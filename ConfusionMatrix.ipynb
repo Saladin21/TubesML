{
 "cells": [
  {
   "cell_type": "code",
   "execution_count": 26,
   "metadata": {},
   "outputs": [],
   "source": [
    "from FFNN import FFNN\n",
    "from sklearn import datasets\n",
    "from sklearn.neural_network import MLPClassifier\n",
    "import random\n",
    "import numpy as np\n",
    "iris = datasets.load_iris()\n",
    "x = iris.data.tolist()  # we only take the first two features.\n",
    "\n",
    "y = iris.target\n",
    "\n",
    "target = []\n",
    "for i in range(len(y)):\n",
    "    if (y[i] == 0):\n",
    "        target.append([1,0,0])\n",
    "    elif(y[i] == 1):\n",
    "        target.append([0,1,0])\n",
    "    else:\n",
    "        target.append([0,0,1])\n",
    "\n",
    "\n",
    "data = []\n",
    "for i in range(len(x)):\n",
    "    data.append((x[i],target[i]))\n",
    "\n",
    "trainingLen = (len(data) * 9) // 10\n",
    "testLen = len(data) - trainingLen\n",
    "\n",
    "random.seed(0)\n",
    "random.shuffle(data)\n",
    "x = []\n",
    "target = []\n",
    "x_test = []\n",
    "target_test = []\n",
    "for d in range (len(data)):\n",
    "    if (d < trainingLen):\n",
    "        x.append(data[d][0])\n",
    "        target.append(data[d][1])\n",
    "    else:\n",
    "        x_test.append(data[d][0])\n",
    "        target_test.append(data[d][1])"
   ]
  },
  {
   "cell_type": "code",
   "execution_count": 27,
   "metadata": {},
   "outputs": [
    {
     "name": "stdout",
     "output_type": "stream",
     "text": [
      "Layer 1:\n",
      "Fungsi Aktivasi:  linear\n",
      "Neuron 1: [0.1, 0.1, 0.1, 0.1, 0.1]\n",
      "Neuron 2: [0.1, 0.1, 0.1, 0.1, 0.1]\n",
      "Layer 2:\n",
      "Fungsi Aktivasi:  linear\n",
      "Neuron 1: [1.0, 1.0, 1.0]\n",
      "Neuron 2: [1.0, 1.0, 1.0]\n",
      "Neuron 3: [1.0, 1.0, 1.0]\n",
      "Layer 3:\n",
      "Fungsi Aktivasi:  softmax\n",
      "Neuron 1: [1.0, 1.0, 1.0, 0.5]\n",
      "Neuron 2: [1.0, 0.5, 0.5, 0.5]\n",
      "Neuron 3: [1.0, 0.5, 0.5, 1.0]\n",
      "Layer 1:\n",
      "Fungsi Aktivasi:  linear\n",
      "Neuron 1: [0.5257120832629552, 1.2361772108341045, 0.9625620025604665, -0.9472367533864436, -1.209726023999975]\n",
      "Neuron 2: [0.46970020941141294, 0.8718934638075373, 0.768886726775412, -1.0316665816713222, -1.1917885167181452]\n",
      "Layer 2:\n",
      "Fungsi Aktivasi:  linear\n",
      "Neuron 1: [2.4616323804598075, 1.6777922036609725, 0.6176249145472962]\n",
      "Neuron 2: [1.212881510915601, 2.1895384380213705, -0.19079671608845014]\n",
      "Neuron 3: [-1.0706638945059965, -3.091381285263246, 1.5639771660118813]\n",
      "Layer 3:\n",
      "Fungsi Aktivasi:  softmax\n",
      "Neuron 1: [-13.947642028865502, 20.10555550068345, 15.108782873057232, 29.86983792688108]\n",
      "Neuron 2: [15.509339313215024, 10.061765266851907, -5.612720718689057, 3.114035278567247]\n",
      "Neuron 3: [1.4383027156518478, -28.167320767534093, -7.496062154367859, -30.983873205449544]\n",
      "iter:  1000\n",
      "error:  125.92819705903479\n"
     ]
    }
   ],
   "source": [
    "ffnn = FFNN(\"IrisModel4.txt\")\n",
    "ffnn.printModel()\n",
    "ffnn.setBackwardParameter(target, 0.1)\n",
    "ffnn.backward(1, 0.1, 1000, x)"
   ]
  },
  {
   "cell_type": "code",
   "execution_count": 28,
   "metadata": {},
   "outputs": [
    {
     "name": "stdout",
     "output_type": "stream",
     "text": [
      "[[0 0 1]\n",
      " [0 1 0]\n",
      " [1 0 0]\n",
      " [0 1 0]\n",
      " [0 1 0]\n",
      " [0 1 0]\n",
      " [0 0 1]\n",
      " [0 1 0]\n",
      " [0 0 1]\n",
      " [0 0 1]\n",
      " [0 0 1]\n",
      " [0 1 0]\n",
      " [1 0 0]\n",
      " [0 0 1]\n",
      " [0 1 0]]\n"
     ]
    }
   ],
   "source": [
    "#Set classifier\n",
    "clf = MLPClassifier(solver='adam', alpha=1e-5,hidden_layer_sizes=(5, ), random_state=1, max_iter=10000, batch_size= 1, learning_rate_init=0.03)\n",
    "#Keterangan Parameter :\n",
    "# solver \"adam\" untuk gradient descent\n",
    "# hidden layer sizes sebesar 5\n",
    "# max_iter, iterasi maksimum 1000\n",
    "# batch_size, besar batch 10\n",
    "# learning_rate_init, learning rate \n",
    "\n",
    "# clf.fit(X, y)\n",
    "clf.fit(x,target)\n",
    "\n",
    "# clf.predict([[5.4, 3.9, 1.7, 0.4],[6.5, 3. , 5.2, 2. ]])\n",
    "clfResult = clf.predict(x_test)\n",
    "# print(x)\n",
    "# print(target)\n",
    "print(clfResult)"
   ]
  },
  {
   "cell_type": "code",
   "execution_count": 29,
   "metadata": {},
   "outputs": [
    {
     "name": "stdout",
     "output_type": "stream",
     "text": [
      "Layer 1:\n",
      "Fungsi Aktivasi:  linear\n",
      "Neuron 1: [0.5257120832629552, 1.2361772108341045, 0.9625620025604665, -0.9472367533864436, -1.209726023999975]\n",
      "Neuron 2: [0.46970020941141294, 0.8718934638075373, 0.768886726775412, -1.0316665816713222, -1.1917885167181452]\n",
      "Layer 2:\n",
      "Fungsi Aktivasi:  linear\n",
      "Neuron 1: [2.4616323804598075, 1.6777922036609725, 0.6176249145472962]\n",
      "Neuron 2: [1.212881510915601, 2.1895384380213705, -0.19079671608845014]\n",
      "Neuron 3: [-1.0706638945059965, -3.091381285263246, 1.5639771660118813]\n",
      "Layer 3:\n",
      "Fungsi Aktivasi:  softmax\n",
      "Neuron 1: [-13.947642028865502, 20.10555550068345, 15.108782873057232, 29.86983792688108]\n",
      "Neuron 2: [15.509339313215024, 10.061765266851907, -5.612720718689057, 3.114035278567247]\n",
      "Neuron 3: [1.4383027156518478, -28.167320767534093, -7.496062154367859, -30.983873205449544]\n",
      "IrisModel:  [0.0, 0.0, 1.0] target:  [0, 0, 1]\n",
      "IrisModel:  [0.0, 0.0, 1.0] target:  [0, 1, 0]\n",
      "IrisModel:  [1.0, 0.0, 0.0] target:  [1, 0, 0]\n",
      "IrisModel:  [0.0, 0.0, 1.0] target:  [0, 0, 1]\n",
      "IrisModel:  [0.0, 1.0, 0.0] target:  [0, 1, 0]\n",
      "IrisModel:  [0.0, 1.0, 0.0] target:  [0, 1, 0]\n",
      "IrisModel:  [0.0, 0.0, 1.0] target:  [0, 0, 1]\n",
      "IrisModel:  [0.0, 1.0, 0.0] target:  [0, 1, 0]\n",
      "IrisModel:  [0.0, 0.0, 1.0] target:  [0, 0, 1]\n",
      "IrisModel:  [0.0, 0.0, 1.0] target:  [0, 0, 1]\n",
      "IrisModel:  [0.0, 0.0, 1.0] target:  [0, 0, 1]\n",
      "IrisModel:  [0.0, 1.0, 0.0] target:  [0, 1, 0]\n",
      "IrisModel:  [1.0, 0.0, 0.0] target:  [1, 0, 0]\n",
      "IrisModel:  [0.0, 0.0, 1.0] target:  [0, 0, 1]\n",
      "IrisModel:  [0.0, 1.0, 0.0] target:  [0, 1, 0]\n",
      "IrisModel Correct count: 14/15\n"
     ]
    }
   ],
   "source": [
    "ffnn.printModel()\n",
    "count = 0\n",
    "for i in range(len(x_test)):\n",
    "    pred = np.round(np.array(ffnn.predict(x_test[i]))).tolist()\n",
    "    print(\"IrisModel: \", pred, \"target: \", target_test[i])\n",
    "    if (pred == target_test[i]):\n",
    "        count+=1\n",
    "print(f\"IrisModel Correct count: {count}/{len(x_test)}\")"
   ]
  },
  {
   "cell_type": "code",
   "execution_count": 30,
   "metadata": {},
   "outputs": [
    {
     "name": "stdout",
     "output_type": "stream",
     "text": [
      "Hasil predict iris model:  [2, 2, 0, 2, 1, 1, 2, 1, 2, 2, 2, 1, 0, 2, 1]\n",
      "Hasil predict sklearn:  [2, 1, 0, 1, 1, 1, 2, 1, 2, 2, 2, 1, 0, 2, 1]\n",
      "Target:  [2, 1, 0, 2, 1, 1, 2, 1, 2, 2, 2, 1, 0, 2, 1]\n"
     ]
    }
   ],
   "source": [
    "#Ubah jadi target 0,1,2\n",
    "def convertEncoding(array_input):\n",
    "    array_output = []\n",
    "    for input in array_input:\n",
    "        array_output.append(input.index(max(input)))\n",
    "    return array_output\n",
    "\n",
    "hasil_predict_unprocessed = ffnn.predictBatch(x_test)\n",
    "hasil_predict = convertEncoding(hasil_predict_unprocessed)\n",
    "target_predict = convertEncoding(target_test)\n",
    "clf_result = convertEncoding(clfResult.tolist())\n",
    "print(\"Hasil predict iris model: \",hasil_predict)\n",
    "print(\"Hasil predict sklearn: \",clf_result)\n",
    "print(\"Target: \",target_predict)"
   ]
  },
  {
   "cell_type": "code",
   "execution_count": 31,
   "metadata": {},
   "outputs": [
    {
     "data": {
      "text/plain": [
       "array([[2, 0, 0],\n",
       "       [0, 0, 1],\n",
       "       [1, 0, 2]], dtype=int64)"
      ]
     },
     "execution_count": 31,
     "metadata": {},
     "output_type": "execute_result"
    }
   ],
   "source": [
    "#SKLearn model example\n",
    "from sklearn.metrics import confusion_matrix\n",
    "y_true = [2, 0, 2, 2, 0, 1]\n",
    "y_pred = [0, 0, 2, 2, 0, 2]\n",
    "confusion_matrix(y_true, y_pred)"
   ]
  },
  {
   "cell_type": "code",
   "execution_count": 35,
   "metadata": {},
   "outputs": [
    {
     "name": "stdout",
     "output_type": "stream",
     "text": [
      "Hasil confusion library sklearn\n",
      "Hasil predict iris model: \n",
      " [[2 0 0]\n",
      " [0 5 1]\n",
      " [0 0 7]]\n",
      "Hasil predict sklearn: \n",
      " [[2 0 0]\n",
      " [0 6 0]\n",
      " [0 1 6]]\n"
     ]
    }
   ],
   "source": [
    "print(\"Hasil confusion matrix library sklearn\")\n",
    "print(\"Hasil predict iris model: \\n\",confusion_matrix(target_predict,hasil_predict))\n",
    "print(\"Hasil predict sklearn: \\n\",confusion_matrix(target_predict,clf_result))"
   ]
  },
  {
   "cell_type": "code",
   "execution_count": 40,
   "metadata": {},
   "outputs": [
    {
     "name": "stdout",
     "output_type": "stream",
     "text": [
      "Hasil confusion matrix implementasi\n",
      "Hasil predict iris model: \n",
      " [[2, 0, 0], [0, 5, 1], [0, 0, 7]]\n",
      "Hasil predict sklearn: \n",
      " [[2, 0, 0], [0, 6, 0], [0, 1, 6]]\n"
     ]
    }
   ],
   "source": [
    "#Confusion matrix\n",
    "#True positive, false positive, true negative, false negative\n",
    "#Accuracy,precision,recall,F1\n",
    "#Catatan: baris true, column pred (ngikutin sklearn)\n",
    "def getConfusionMatrix(target,prediction):\n",
    "    n = len(set(target))\n",
    "    confusion_matrix = [[0 for i in range(n)] for j in range(n)]\n",
    "    for i in range(len(target)):\n",
    "        true = int(target[i])\n",
    "        pred = int(prediction[i])\n",
    "        confusion_matrix[true][pred] += 1\n",
    "    return confusion_matrix\n",
    "\n",
    "print(\"Hasil confusion matrix implementasi\")\n",
    "print(\"Hasil predict iris model: \\n\",getConfusionMatrix(target_predict,hasil_predict))\n",
    "print(\"Hasil predict sklearn: \\n\",getConfusionMatrix(target_predict,clf_result))"
   ]
  }
 ],
 "metadata": {
  "interpreter": {
   "hash": "2be5faf79681da6f2a61fdfdd5405d65d042280f7fba6178067603e3a2925119"
  },
  "kernelspec": {
   "display_name": "Python 3.10.2 64-bit",
   "language": "python",
   "name": "python3"
  },
  "language_info": {
   "codemirror_mode": {
    "name": "ipython",
    "version": 3
   },
   "file_extension": ".py",
   "mimetype": "text/x-python",
   "name": "python",
   "nbconvert_exporter": "python",
   "pygments_lexer": "ipython3",
   "version": "3.9.7"
  },
  "orig_nbformat": 4
 },
 "nbformat": 4,
 "nbformat_minor": 2
}
